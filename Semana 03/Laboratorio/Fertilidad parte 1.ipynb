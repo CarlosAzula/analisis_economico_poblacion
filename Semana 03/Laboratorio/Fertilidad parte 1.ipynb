{
 "cells": [
  {
   "cell_type": "markdown",
   "metadata": {},
   "source": [
    "# Análisis de Datos de Fertilidad"
   ]
  },
  {
   "cell_type": "markdown",
   "metadata": {},
   "source": [
    "> Para realizar la presente sesión importamos las bibliotecas `numpy`, `pandas` y `matplotlib.pyplot`, y también importa la función `interact` y el módulo `widgets` de la biblioteca `ipywidgets`. Aquí está el código:"
   ]
  },
  {
   "cell_type": "code",
   "execution_count": null,
   "metadata": {},
   "outputs": [],
   "source": [
    "# pip install --upgrade ipywidgets"
   ]
  },
  {
   "cell_type": "code",
   "execution_count": null,
   "metadata": {},
   "outputs": [],
   "source": [
    "import numpy as np \n",
    "import pandas as pd\n",
    "import matplotlib.pyplot as plt\n",
    "\n",
    "from ipywidgets import interact, widgets"
   ]
  },
  {
   "cell_type": "markdown",
   "metadata": {},
   "source": [
    "> - `import numpy as np` importa la biblioteca numpy y la asigna al alias `np`. Esto te permitirá utilizar las funciones y operaciones proporcionadas por numpy.\n",
    "> - `import pandas as pd` importa la biblioteca pandas y la asigna al alias `pd`. Esto te permitirá utilizar las funcionalidades de pandas para la manipulación y análisis de datos.\n",
    "> - `import matplotlib.pyplot as plt` importa el módulo pyplot de la biblioteca matplotlib y lo asigna al alias `plt`. Esto te permitirá generar visualizaciones y gráficos.\n",
    "> - `from ipywidgets import interact, widgets` importa la función `interact` y el módulo `widgets` de la biblioteca `ipywidgets`. Estos widgets interactivos pueden ser utilizados para crear interfaces gráficas de usuario interactivas en entornos como Jupyter Notebook.\n",
    "> \n",
    "> Con estas importaciones, tendrás acceso a las funcionalidades y objetos proporcionados por estas bibliotecas para realizar operaciones numéricas, análisis de datos, generación de gráficos y crear widgets interactivos en tu código.\n",
    ">\n",
    "> Posteriormente descargamos la base de datos `gapminder.xls` desde:\n",
    "[GitHub](https://github.com/theengineeringworld/statistics-using-python/blob/master/gapminder.xls)\n",
    ">\n",
    "> Abrimos un block de notas, copiamos y pegamos la información guardando el archivo con el nombre `gapminder.csv` en nuestro directorio de trabajo.\n",
    ">\n",
    "> El primer paso es importar la biblioteca pandas. Luego, se utiliza la función `pd.read_csv()` para leer el archivo CSV `\"gapminder.csv\"` y se almacena en el DataFrame llamado `df`. Por último, el método `head()` muestra las primeras filas del DataFrame para proporcionar una vista previa de los datos cargados."
   ]
  },
  {
   "cell_type": "code",
   "execution_count": null,
   "metadata": {},
   "outputs": [],
   "source": [
    "data1 = pd.read_csv('gapminder.csv')\n",
    "data1.head()"
   ]
  },
  {
   "cell_type": "markdown",
   "metadata": {},
   "source": [
    "> Este código te permitirá cargar el archivo CSV en un DataFrame y ver las primeras filas de los datos. Asegúrate de que el archivo `\"gapminder.csv\"` esté en el directorio de trabajo actual o proporcione la ruta completa al archivo si se encuentra en otro lugar."
   ]
  },
  {
   "cell_type": "markdown",
   "metadata": {},
   "source": [
    "## Obtención de información sobre un DataFrame\n",
    "\n",
    "> El método `info()` se utiliza para obtener información sobre un DataFrame en Pandas. Proporciona un resumen conciso de la estructura y el contenido del DataFrame, incluyendo:\n",
    "> \n",
    "> - La cantidad de filas y columnas del DataFrame.\n",
    "> - El nombre y tipo de datos de cada columna.\n",
    "> - El número de valores no nulos en cada columna.\n",
    "> - La cantidad de memoria utilizada por el DataFrame.\n",
    "> \n",
    "> Al utilizar el método `info()` en un DataFrame, se muestra una tabla con esta información. Es útil para comprender rápidamente la estructura de los datos y detectar posibles problemas, como valores faltantes o tipos de datos incompatibles.\n",
    "> \n",
    "> Si tienes un DataFrame llamado `data1`, puedes ejecutar `data1.info()` en tu entorno para obtener la información detallada sobre el DataFrame, incluyendo los nombres de las columnas, los tipos de datos y los valores no nulos en cada columna."
   ]
  },
  {
   "cell_type": "code",
   "execution_count": null,
   "metadata": {},
   "outputs": [],
   "source": [
    "data1.info"
   ]
  },
  {
   "cell_type": "markdown",
   "metadata": {},
   "source": [
    "## Obtención de la forma de un Dataframe\n",
    "\n",
    "> Si tienes un DataFrame llamado `data1`, puedes obtener su forma (número de filas y columnas) utilizando el atributo `shape`.  Para obtener la forma de `data1`, puedes ejecutar el siguiente código:"
   ]
  },
  {
   "cell_type": "code",
   "execution_count": null,
   "metadata": {},
   "outputs": [],
   "source": [
    "data1.shape"
   ]
  },
  {
   "cell_type": "markdown",
   "metadata": {},
   "source": [
    "> Esto devolverá una tupla que contiene dos valores: el número de filas y el número de columnas en `data1`. Por ejemplo, si `data1` tiene 14740 filas y 9 columnas, el resultado sería `(14740, 9)`.\n",
    "\n",
    "## Obtención de las columnas del Dataframe\n",
    "\n",
    "Si tienes un DataFrame llamado `data1`, puedes obtener los nombres de las columnas utilizando el atributo `columns`. Este atributo devuelve una lista con los nombres de todas las columnas presentes en el DataFrame. Para obtener los nombres de las columnas de `data1`, puedes ejecutar el siguiente código:"
   ]
  },
  {
   "cell_type": "code",
   "execution_count": null,
   "metadata": {},
   "outputs": [],
   "source": [
    "data1.columns"
   ]
  },
  {
   "cell_type": "markdown",
   "metadata": {},
   "source": [
    "> Esto devolverá una lista con los nombres de las columnas de `data1`. Puedes utilizar esta lista para acceder o manipular las columnas individuales del DataFrame. Por ejemplo, puedes usar `data1['nombre_columna']` para acceder a una columna específica o `data1[['columna1', 'columna2']]` para seleccionar varias columnas a la vez.\n",
    ">\n",
    "> Aquí una breve explicación de cada una de las columnas mencionadas:\n",
    "> \n",
    "> 1. **country**: La columna `\"country\"` indica el nombre del país al que pertenece cada registro de datos. Permite identificar a qué país se refiere cada observación en el conjunto de datos.\n",
    "> \n",
    "> 2. **year**: La columna `\"year\"` indica el año al que corresponde cada registro de datos. Es una variable temporal que permite analizar la evolución de los datos a lo largo del tiempo.\n",
    "> \n",
    "> 3. **region**: La columna `\"region\"` indica la región geográfica a la que pertenece cada país. Esta variable puede agrupar los países en diferentes categorías geográficas, como América, Europa, Asia, África, etc.\n",
    "> \n",
    "> 4. **population**: La columna `\"population\"` representa la población total del país en cada año. Indica el número de personas que viven en el país en un momento específico.\n",
    "> \n",
    "> 5. **life_expectancy**: La columna `\"life_expectancy\"` muestra la esperanza de vida media de la población en cada país y año. Representa el número medio de años que se espera que viva una persona en un determinado país y período.\n",
    "> \n",
    "> 6. **age5_surviving**: La columna `\"age5_surviving\"` se refiere a la tasa de supervivencia de los niños menores de 5 años, como se explicó anteriormente. Indica la proporción de niños que sobreviven hasta los 5 años en una determinada población.\n",
    "> \n",
    "> 7. **babies_per_woman**: La columna `\"babies_per_woman\"` se refiere a la tasa de fecundidad o número promedio de hijos nacidos por mujer en edad fértil, como se explicó anteriormente. Indica la cantidad media de hijos que tiene una mujer en un período determinado.\n",
    "> \n",
    "> 8. **gdp_per_capita**: La columna `\"gdp_per_capita\"` representa el Producto Interno Bruto (PIB) per cápita del país en cada año. Es una medida del valor total de los bienes y servicios producidos en el país dividido por la población.\n",
    "> \n",
    "> 9. **gdp_per_day**: La columna `\"gdp_per_day\"` representa el PIB per cápita diario del país. Es una estimación del PIB per cápita dividido por el número de días en el año, lo que proporciona una medida del ingreso promedio diario por persona.\n",
    "> \n",
    "> Estas columnas son variables clave que se utilizan para analizar diferentes aspectos relacionados con la población, la salud, la economía y el desarrollo humano en diversos países y años.\n",
    "\n",
    "## Obtención de estadísticas descriptivas de un DataFrame\n",
    ">\n",
    "> El método `describe()` en Pandas se utiliza para obtener estadísticas descriptivas de un DataFrame, como el recuento, la media, la desviación estándar, los valores mínimo y máximo, y los percentiles de las columnas numéricas.\n",
    ">\n",
    "> Si tienes un DataFrame llamado `data1`, puedes obtener las estadísticas descriptivas de sus columnas numéricas utilizando el método `describe()`. Puedes ejecutar el siguiente código:"
   ]
  },
  {
   "cell_type": "code",
   "execution_count": null,
   "metadata": {},
   "outputs": [],
   "source": [
    "data1.describe()"
   ]
  },
  {
   "cell_type": "markdown",
   "metadata": {},
   "source": [
    "> Esto devolverá un resumen estadístico de las columnas numéricas en `data1`. El resultado incluirá el recuento de valores no nulos, la media, la desviación estándar, los valores mínimo y máximo, y los percentiles (25%, 50%, 75%) de las columnas numéricas.\n",
    "> \n",
    ">  El método `describe()` es útil para obtener una visión general rápida de las propiedades estadísticas de un DataFrame y puede ayudar a identificar valores atípicos, la distribución de los datos y otras características importantes de las variables numéricas en el conjunto de datos.\n",
    "\n",
    "## Obtención de países únicos del Dataframe\n",
    ">\n",
    "> Si tienes un DataFrame llamado `data1` y quieres obtener un conjunto de países únicos de la columna `\"country\"`, puedes utilizar la función `set()` en combinación con la sintaxis de acceso a columnas de Pandas. Aquí tienes un ejemplo de cómo obtener los países únicos de la columna \"country\" en el DataFrame `data1`:"
   ]
  },
  {
   "cell_type": "code",
   "execution_count": null,
   "metadata": {},
   "outputs": [],
   "source": [
    "paises1 = set(data1.country)\n",
    "paises1"
   ]
  },
  {
   "cell_type": "markdown",
   "metadata": {},
   "source": [
    "> La variable `paises1` contendrá un conjunto (set) de los países únicos presentes en la columna `\"country\"` de `data1`. Cada país estará representado una vez en el conjunto, sin repeticiones.\n",
    "\n",
    "## Obtención el número de países únicos del Dataframe\n",
    ">\n",
    "> Si deseas obtener el número de países únicos en la columna `\"country\"` de tu DataFrame `data1`, puedes utilizar la función `set()` para crear un conjunto de los valores únicos y luego utilizar la función `len()` para obtener la longitud de ese conjunto. Aquí tienes un ejemplo de cómo obtener el número de países únicos en la columna `\"country\"` de `data1`:"
   ]
  },
  {
   "cell_type": "code",
   "execution_count": null,
   "metadata": {},
   "outputs": [],
   "source": [
    "num_paises = len(set(data1.country))\n",
    "print('El número de países en la base de datos es: {}'.format(num_paises))"
   ]
  },
  {
   "cell_type": "markdown",
   "metadata": {},
   "source": [
    "> La variable `num_paises` contendrá el número de países únicos en la columna `\"country\"` de `data1`. Esto mostrará el número de países únicos en la columna \"country\" de `data1`.\n",
    "\n",
    "## Obtención de regiones únicas del Dataframe\n",
    ">\n",
    "> Si deseas obtener un conjunto de regiones únicas de la columna \"region\" en tu DataFrame `data1`, puedes utilizar la función `set()` en combinación con la sintaxis de acceso a columnas de Pandas. Aquí tienes un ejemplo de cómo obtener las regiones únicas de la columna \"region\" en el DataFrame `data1`:"
   ]
  },
  {
   "cell_type": "code",
   "execution_count": null,
   "metadata": {},
   "outputs": [],
   "source": [
    "regiones = set(data1.region)\n",
    "regiones"
   ]
  },
  {
   "cell_type": "markdown",
   "metadata": {},
   "source": [
    "> La variable `regiones` contendrá un conjunto (set) de las regiones únicas presentes en la columna `\"region\"` de `data1`. Cada región estará representada una vez en el conjunto, sin repeticiones. Esto mostrará las regiones únicas en el conjunto `regiones`.\n",
    "\n",
    "## Valor mínimo y maximo de la columna `\"year\"` del DataFrame \n",
    ">\n",
    "> Para obtener el valor mínimo y mínimo de la columna `\"year\"` en el DataFrame `data1`, puedes utilizar el atributo `min()` y `max()` después de acceder a la columna `\"year\"`, respectivamente. Aquí tienes un ejemplo de cómo obtener el valor mínimo de la columna `\"year\"` en el DataFrame `data1`:"
   ]
  },
  {
   "cell_type": "code",
   "execution_count": null,
   "metadata": {},
   "outputs": [],
   "source": [
    "anio_minimo = data1.year.min()\n",
    "print('El mínimo valor de la columna year es: {}'.format(anio_minimo))"
   ]
  },
  {
   "cell_type": "markdown",
   "metadata": {},
   "source": [
    "> Aquí tienes un ejemplo de cómo obtener el valor máximo de la columna `\"year\"` en el DataFrame `data1`:"
   ]
  },
  {
   "cell_type": "code",
   "execution_count": null,
   "metadata": {},
   "outputs": [],
   "source": [
    "anio_maximo = data1.year.max()\n",
    "print('El máximo valor de la columna year es: {}'.format(anio_maximo))"
   ]
  },
  {
   "cell_type": "markdown",
   "metadata": {},
   "source": [
    "## Instalación de `bokeh`\n",
    ">\n",
    "> Para instalar o actualizar el paquete Bokeh, puedes ejecutar el comando `pip install --upgrade bokeh` en tu entorno de desarrollo o en la línea de comandos de tu sistema operativo.\n",
    "> \n",
    "> Asegúrate de tener una instalación de Python y el administrador de paquetes pip configurado correctamente en tu sistema antes de ejecutar el comando. También puedes considerar utilizar un entorno virtual para gestionar tus paquetes de Python de manera aislada.\n",
    "> \n",
    "> Si tienes algún problema con la instalación o actualización de Bokeh, puedes buscar en la documentación oficial de Bokeh o en recursos en línea para obtener instrucciones específicas según tu sistema operativo y configuración."
   ]
  },
  {
   "cell_type": "code",
   "execution_count": null,
   "metadata": {},
   "outputs": [],
   "source": [
    "!pip install --upgrade bokeh"
   ]
  },
  {
   "cell_type": "markdown",
   "metadata": {},
   "source": [
    "> El código `bokeh.sampledata.download()` se utiliza para descargar los datos de muestra proporcionados por la biblioteca `bokeh`. Estos datos de muestra son conjuntos de datos utilizados en ejemplos y tutoriales de Bokeh."
   ]
  },
  {
   "cell_type": "code",
   "execution_count": null,
   "metadata": {},
   "outputs": [],
   "source": [
    "import bokeh\n",
    "bokeh.sampledata.download()"
   ]
  },
  {
   "cell_type": "code",
   "execution_count": null,
   "metadata": {},
   "outputs": [],
   "source": [
    "from bokeh.sampledata import gapminder\n",
    "\n",
    "# Obtener los datos del identificador\n",
    "grupos = gapminder.regions\n",
    "\n",
    "# Reseteamos el indice del 'identificador' y guardamos el Dataframe en 'df'\n",
    "df_tmp = grupos.reset_index()\n",
    "\n",
    "# Guardar el DataFrame en un archivo XLSX\n",
    "df_tmp.to_excel('grupos.xlsx', index=False)"
   ]
  },
  {
   "cell_type": "markdown",
   "metadata": {},
   "source": [
    "> Este código utiliza la biblioteca Bokeh para trabajar con los datos de muestra llamados `\"gapminder\"`. Aquí está la descripción de cada línea:\n",
    "> \n",
    "> 1. `from bokeh.sampledata import gapminder`: Importa los datos de muestra `\"gapminder\"` de la biblioteca Bokeh. Estos datos contienen información demográfica y socioeconómica de varios países a lo largo del tiempo.\n",
    "> \n",
    "> 2. `grupos = gapminder.regions`: Obtiene los datos de la columna `\"regions\"` del conjunto de datos `\"gapminder\"`. Estos datos representan las regiones geográficas a las que pertenecen los países.\n",
    "> \n",
    "> 3. `df_tmp = grupos.reset_index()`: Crea un nuevo DataFrame llamado `\"df_tmp\"` a partir de los datos de la variable `\"grupos\"`. La función `reset_index()` se utiliza para reiniciar el índice del DataFrame y convertir los datos en columnas.\n",
    "> \n",
    "> 4. `df_tmp.to_excel('grupos.xlsx', index=False)`: Guarda el DataFrame `\"df_tmp\"` en un archivo de Excel (.xlsx) llamado `\"grupos.xlsx\"`. El parámetro `index=False` se utiliza para no incluir el índice del DataFrame en el archivo Excel."
   ]
  },
  {
   "cell_type": "code",
   "execution_count": null,
   "metadata": {},
   "outputs": [],
   "source": [
    "data2 = pd.read_excel('grupos.xlsx')\n",
    "data2.head(10)"
   ]
  },
  {
   "cell_type": "code",
   "execution_count": null,
   "metadata": {},
   "outputs": [],
   "source": [
    "data2.columns"
   ]
  },
  {
   "cell_type": "code",
   "execution_count": null,
   "metadata": {},
   "outputs": [],
   "source": [
    "paises2 = set(data2.Country)\n",
    "paises2"
   ]
  },
  {
   "cell_type": "code",
   "execution_count": null,
   "metadata": {},
   "outputs": [],
   "source": [
    "paises1 - paises2"
   ]
  },
  {
   "cell_type": "code",
   "execution_count": null,
   "metadata": {},
   "outputs": [],
   "source": [
    "renombres = {'Central African Rep.' : 'Central African Republic',\n",
    "             'Czech Rep.' : 'Czech Republic',\n",
    "             'Dominican Rep.' : 'Dominican Republic',\n",
    "             'Kyrgyzstan' : 'Kyrgyz Republic',\n",
    "             'Laos' : 'Lao',\n",
    "             'Korea, Dem. Rep.' : 'North Korea',\n",
    "             'Korea, Rep.' : 'South Korea',\n",
    "             'Saint Lucia' : 'St. Lucia',\n",
    "             'Saint Vincent and the Grenadines' : 'St. Vincent and the Grenadines', \n",
    "             'Yemen, Rep.' : 'Yemen'}\n",
    "\n",
    "data2= data2.replace(renombres)\n",
    "data2.head(10)"
   ]
  },
  {
   "cell_type": "code",
   "execution_count": null,
   "metadata": {},
   "outputs": [],
   "source": [
    "paises2 = set(data2.Country)\n",
    "paises2"
   ]
  },
  {
   "cell_type": "code",
   "execution_count": null,
   "metadata": {},
   "outputs": [],
   "source": [
    "paises1 - paises2"
   ]
  },
  {
   "cell_type": "code",
   "execution_count": null,
   "metadata": {},
   "outputs": [],
   "source": [
    "paises2 - paises1"
   ]
  },
  {
   "cell_type": "code",
   "execution_count": null,
   "metadata": {},
   "outputs": [],
   "source": [
    "# Primer DataFrame\n",
    "df1 = data1\n",
    "\n",
    "# Segundo DataFrame\n",
    "df2 = data2\n",
    "\n",
    "# Combinar los DataFrames utilizando la columna \"Country\" como clave\n",
    "df_merged = pd.merge(df1, df2, left_on='country', right_on='Country', how='left')\n",
    "\n",
    "# Eliminar la columna \"Country\" duplicada\n",
    "df_merged = df_merged.drop(columns='Country')\n",
    "\n",
    "# Guardar el DataFrame en un archivo XLSX\n",
    "df_merged.to_excel('data_consolidada.xlsx', index=False)"
   ]
  },
  {
   "cell_type": "code",
   "execution_count": null,
   "metadata": {},
   "outputs": [],
   "source": [
    "set(df_merged.region)"
   ]
  },
  {
   "cell_type": "code",
   "execution_count": null,
   "metadata": {},
   "outputs": [],
   "source": [
    "set(df_merged.Group)"
   ]
  },
  {
   "cell_type": "code",
   "execution_count": null,
   "metadata": {},
   "outputs": [],
   "source": [
    "fig, ax = plt.subplots(figsize=(10, 7))\n",
    "df_merged[df_merged['year'] == 1965].plot.scatter('babies_per_woman', 'age5_surviving', ax=ax)\n",
    "\n",
    "plt.show()"
   ]
  },
  {
   "cell_type": "code",
   "execution_count": null,
   "metadata": {},
   "outputs": [],
   "source": [
    "data = df_merged[df_merged.year == 1965]\n",
    "area = 5e-6 * data.population\n",
    "colors = data.Group.map({'Sub-Saharan Africa': 'skyblue', \n",
    "                         'Europe & Central Asia': 'gold', \n",
    "                         'America': 'Palegreen', \n",
    "                         'Middle East & North Africa': 'blue',\n",
    "                         'South Asia': 'magenta',\n",
    "                         'East Asia & Pacific': 'Coral'})\n",
    "data.plot.scatter('babies_per_woman', 'age5_surviving',\n",
    "                     s = area, c = colors,\n",
    "                     linewidth = 1, edgecolors = 'k',\n",
    "                     figsize = (10,7))\n",
    "    \n",
    "plt.axis(ymin=50, ymax=105, xmin=0, xmax= 8)\n",
    "plt.xlabel('Nº de hijos por Mujer')\n",
    "plt.ylabel('% de Niños vivos menores de 5 años');"
   ]
  },
  {
   "cell_type": "code",
   "execution_count": null,
   "metadata": {},
   "outputs": [],
   "source": [
    "def plotyear(year, dataframe):\n",
    "    data = dataframe[dataframe.year == year]\n",
    "    area = 5e-6 * data.population\n",
    "    colors = data.Group.map({'Sub-Saharan Africa': 'skyblue', \n",
    "                         'Europe & Central Asia': 'gold', \n",
    "                         'America': 'Palegreen', \n",
    "                         'Middle East & North Africa': 'blue',\n",
    "                         'South Asia': 'magenta',\n",
    "                         'East Asia & Pacific': 'Coral'})\n",
    "    ax = data.plot.scatter('babies_per_woman', 'age5_surviving',\n",
    "                     s = area, c = colors,\n",
    "                     linewidth = 1, edgecolors = 'k',\n",
    "                     figsize = (10,7))\n",
    "    \n",
    "    plt.axis(ymin=50, ymax=105, xmin=0, xmax= 8)\n",
    "    plt.xlabel('Nº de hijos por Mujer')\n",
    "    plt.ylabel('% de Niños vivos menores de 5 años')"
   ]
  },
  {
   "cell_type": "code",
   "execution_count": null,
   "metadata": {},
   "outputs": [],
   "source": [
    "plotyear(1965, df_merged)"
   ]
  },
  {
   "cell_type": "code",
   "execution_count": null,
   "metadata": {},
   "outputs": [],
   "source": [
    "plotyear(1975, df_merged)"
   ]
  },
  {
   "cell_type": "code",
   "execution_count": null,
   "metadata": {},
   "outputs": [],
   "source": [
    "plotyear(1985, df_merged)"
   ]
  },
  {
   "cell_type": "code",
   "execution_count": null,
   "metadata": {},
   "outputs": [],
   "source": [
    "plotyear(1995, df_merged)"
   ]
  },
  {
   "cell_type": "code",
   "execution_count": null,
   "metadata": {},
   "outputs": [],
   "source": [
    "plotyear(2005, df_merged)"
   ]
  },
  {
   "cell_type": "code",
   "execution_count": null,
   "metadata": {},
   "outputs": [],
   "source": [
    "plotyear(2015, df_merged)"
   ]
  },
  {
   "cell_type": "code",
   "execution_count": null,
   "metadata": {},
   "outputs": [],
   "source": [
    "set(df_merged.region)"
   ]
  },
  {
   "cell_type": "code",
   "execution_count": null,
   "metadata": {},
   "outputs": [],
   "source": [
    "africa = df_merged[(df_merged.region == 'Africa')]"
   ]
  },
  {
   "cell_type": "code",
   "execution_count": null,
   "metadata": {},
   "outputs": [],
   "source": [
    "africa.babies_per_woman.max()"
   ]
  },
  {
   "cell_type": "code",
   "execution_count": null,
   "metadata": {},
   "outputs": [],
   "source": [
    "africa.babies_per_woman.min()"
   ]
  },
  {
   "cell_type": "code",
   "execution_count": null,
   "metadata": {},
   "outputs": [],
   "source": [
    "europa = df_merged[(df_merged.region == 'Europe')]"
   ]
  },
  {
   "cell_type": "code",
   "execution_count": null,
   "metadata": {},
   "outputs": [],
   "source": [
    "europa.babies_per_woman.max()"
   ]
  },
  {
   "cell_type": "code",
   "execution_count": null,
   "metadata": {},
   "outputs": [],
   "source": [
    "europa.babies_per_woman.min()"
   ]
  },
  {
   "cell_type": "code",
   "execution_count": null,
   "metadata": {},
   "outputs": [],
   "source": [
    "america = df_merged[(df_merged.region == 'America')]"
   ]
  },
  {
   "cell_type": "code",
   "execution_count": null,
   "metadata": {},
   "outputs": [],
   "source": [
    "america.babies_per_woman.max()"
   ]
  },
  {
   "cell_type": "code",
   "execution_count": null,
   "metadata": {},
   "outputs": [],
   "source": [
    "america.babies_per_woman.min()"
   ]
  },
  {
   "cell_type": "code",
   "execution_count": null,
   "metadata": {},
   "outputs": [],
   "source": [
    "asia = df_merged[(df_merged.region == 'Asia')]"
   ]
  },
  {
   "cell_type": "code",
   "execution_count": null,
   "metadata": {},
   "outputs": [],
   "source": [
    "asia.babies_per_woman.max()"
   ]
  },
  {
   "cell_type": "code",
   "execution_count": null,
   "metadata": {},
   "outputs": [],
   "source": [
    "asia.babies_per_woman.min()"
   ]
  },
  {
   "cell_type": "code",
   "execution_count": null,
   "metadata": {},
   "outputs": [],
   "source": [
    "plotyear(2000, europa)"
   ]
  },
  {
   "cell_type": "code",
   "execution_count": null,
   "metadata": {},
   "outputs": [],
   "source": [
    "plotyear(2000, america)"
   ]
  },
  {
   "cell_type": "code",
   "execution_count": null,
   "metadata": {},
   "outputs": [],
   "source": [
    "plotyear(2000, asia)"
   ]
  },
  {
   "cell_type": "code",
   "execution_count": null,
   "metadata": {},
   "outputs": [],
   "source": [
    "plotyear(2000, africa)"
   ]
  },
  {
   "cell_type": "code",
   "execution_count": null,
   "metadata": {},
   "outputs": [],
   "source": [
    "# pip install plotly"
   ]
  },
  {
   "cell_type": "code",
   "execution_count": null,
   "metadata": {},
   "outputs": [],
   "source": [
    "import plotly.express as px\n",
    "import plotly.offline as pyo"
   ]
  },
  {
   "cell_type": "code",
   "execution_count": null,
   "metadata": {},
   "outputs": [],
   "source": [
    "# dir(px)"
   ]
  },
  {
   "cell_type": "code",
   "execution_count": null,
   "metadata": {},
   "outputs": [],
   "source": [
    "# dir(pyo)"
   ]
  },
  {
   "cell_type": "code",
   "execution_count": null,
   "metadata": {},
   "outputs": [],
   "source": [
    "df_merged.head()"
   ]
  },
  {
   "cell_type": "code",
   "execution_count": null,
   "metadata": {},
   "outputs": [],
   "source": [
    "df_merged.columns"
   ]
  },
  {
   "cell_type": "code",
   "execution_count": null,
   "metadata": {},
   "outputs": [],
   "source": [
    "# df_merged.query?"
   ]
  },
  {
   "cell_type": "code",
   "execution_count": null,
   "metadata": {},
   "outputs": [],
   "source": [
    "# filtrar datos para \"Peru\" y almacenarlos en una variable llamada \"peru\"\n",
    "peru = df_merged.query(\"country == 'Peru'\")\n",
    "peru"
   ]
  },
  {
   "cell_type": "code",
   "execution_count": null,
   "metadata": {},
   "outputs": [],
   "source": [
    "# create bar charts \n",
    "fig1 = px.bar(peru, x='year', y='population', height=400)\n",
    "fig1.show()"
   ]
  },
  {
   "cell_type": "code",
   "execution_count": null,
   "metadata": {},
   "outputs": [],
   "source": [
    "fig2 = px.scatter(df_merged, \n",
    "                 x = 'babies_per_woman', \n",
    "                 y = \"life_expectancy\",\n",
    "                 labels={'babies_per_woman':'Hijos por mujer', 'life_expectancy':'Expectativa de vida'})\n",
    "fig2.show()"
   ]
  },
  {
   "cell_type": "code",
   "execution_count": null,
   "metadata": {
    "scrolled": false
   },
   "outputs": [],
   "source": [
    "fig3 = px.scatter(df_merged,\n",
    "                 x='babies_per_woman',\n",
    "                 y=\"life_expectancy\",\n",
    "                 color='region',\n",
    "                 labels={'babies_per_woman':'Hijos por mujer', 'life_expectancy':'Expectativa de vida'})\n",
    "fig3.show()"
   ]
  },
  {
   "cell_type": "code",
   "execution_count": null,
   "metadata": {
    "scrolled": false
   },
   "outputs": [],
   "source": [
    "fig4 = px.scatter(df_merged,\n",
    "                 x='babies_per_woman',\n",
    "                 y=\"life_expectancy\",\n",
    "                 color='Group',\n",
    "                hover_name='country',  \n",
    "                 labels={'babies_per_woman':'Hijos por mujer', 'life_expectancy':'Expectativa de vida'})\n",
    "fig4.show()"
   ]
  },
  {
   "cell_type": "code",
   "execution_count": null,
   "metadata": {},
   "outputs": [],
   "source": [
    "df_merged['babies_per_woman'].min()"
   ]
  },
  {
   "cell_type": "code",
   "execution_count": null,
   "metadata": {},
   "outputs": [],
   "source": [
    "df_merged['babies_per_woman'].max()"
   ]
  },
  {
   "cell_type": "code",
   "execution_count": null,
   "metadata": {},
   "outputs": [],
   "source": [
    "df_merged[\"life_expectancy\"].min()"
   ]
  },
  {
   "cell_type": "code",
   "execution_count": null,
   "metadata": {},
   "outputs": [],
   "source": [
    "df_merged[\"life_expectancy\"].max()"
   ]
  },
  {
   "cell_type": "code",
   "execution_count": null,
   "metadata": {},
   "outputs": [],
   "source": [
    "df_merged[\"age5_surviving\"].min()"
   ]
  },
  {
   "cell_type": "code",
   "execution_count": null,
   "metadata": {},
   "outputs": [],
   "source": [
    "df_merged[\"age5_surviving\"].max()"
   ]
  },
  {
   "cell_type": "code",
   "execution_count": null,
   "metadata": {},
   "outputs": [],
   "source": [
    "df_merged[\"gdp_per_day\"].min()"
   ]
  },
  {
   "cell_type": "code",
   "execution_count": null,
   "metadata": {},
   "outputs": [],
   "source": [
    "df_merged[\"gdp_per_day\"].max()"
   ]
  },
  {
   "cell_type": "code",
   "execution_count": null,
   "metadata": {
    "scrolled": false
   },
   "outputs": [],
   "source": [
    "fig5 = px.scatter(df_merged,\n",
    "                 x='babies_per_woman',\n",
    "                 y=\"life_expectancy\",\n",
    "                 color='Group',\n",
    "                 size='population',\n",
    "                 size_max=60,\n",
    "                 hover_name='country',\n",
    "                 animation_frame='year',\n",
    "                 animation_group='country',\n",
    "                 range_x = [1, 10],\n",
    "                 range_y = [0, 90],\n",
    "                 labels={'babies_per_woman':'Tasa de fecundidad', 'life_expectancy':'Esperanza de Vida'})\n",
    "fig5.update_layout(\n",
    "    title='Tasa de fecundidad vs. Esperanza de Vida',\n",
    "    title_x=0.43,  # Ajusta la posición horizontal del título\n",
    "    transition_duration=6000\n",
    ")\n",
    "fig5.show()\n",
    "fig5.write_html('fig5.html')"
   ]
  },
  {
   "cell_type": "code",
   "execution_count": null,
   "metadata": {
    "scrolled": false
   },
   "outputs": [],
   "source": [
    "fig6 = px.scatter(df_merged,\n",
    "                 x='babies_per_woman',\n",
    "                 y=\"age5_surviving\",\n",
    "                 color='Group',\n",
    "                 size='population',\n",
    "                 size_max=60,\n",
    "                 hover_name='country',\n",
    "                 animation_frame='year',\n",
    "                 animation_group='country',\n",
    "                 range_x = [1, 10],\n",
    "                 range_y = [20, 110],\n",
    "                 labels={'babies_per_woman':'Tasa de fecundidad', \n",
    "                         'age5_surviving':'% Supervivencia de los niños menores de 5 años'})\n",
    "fig6.update_layout(\n",
    "    title='Tasa de fecundidad vs. Tasa de supervivencia',\n",
    "    title_x=0.43,  # Ajusta la posición horizontal del título\n",
    "    transition_duration=6000\n",
    ")\n",
    "fig6.show()\n",
    "fig6.write_html('fig6.html')"
   ]
  },
  {
   "cell_type": "code",
   "execution_count": null,
   "metadata": {
    "scrolled": false
   },
   "outputs": [],
   "source": [
    "fig7 = px.scatter(df_merged,\n",
    "                 y=\"gdp_per_capita\",\n",
    "                 x='babies_per_woman',\n",
    "                 color='Group',\n",
    "                 size='population',\n",
    "                 size_max=100,\n",
    "                 hover_name='country',\n",
    "                 animation_frame='year',\n",
    "                 animation_group='country',\n",
    "                 log_y=True,\n",
    "                 range_y = [100, 200000],\n",
    "                 range_x = [1, 10],\n",
    "                 labels={'babies_per_woman':'Tasa de fecundidad', \n",
    "                         'gdp_per_capita':'PIB per cápita anual',})\n",
    "fig7.update_layout(\n",
    "    title='Tasa de fecundidad vs. PIB percápita anual',\n",
    "    title_x=0.43,  # Ajusta la posición horizontal del título\n",
    "    transition_duration=6000\n",
    ")\n",
    "fig7.show()\n",
    "fig7.write_html('fig7.html')"
   ]
  },
  {
   "cell_type": "code",
   "execution_count": null,
   "metadata": {},
   "outputs": [],
   "source": [
    "# Aplicar el logaritmo base 10 a la columna 'gdp_per_day'\n",
    "df_merged['log_gdp_per_day'] = np.log10(df_merged['gdp_per_day'])\n",
    "df_merged"
   ]
  },
  {
   "cell_type": "code",
   "execution_count": null,
   "metadata": {},
   "outputs": [],
   "source": [
    "fig8 = px.scatter(df_merged,\n",
    "                 x=\"babies_per_woman\",\n",
    "                 y=\"log_gdp_per_day\",\n",
    "                 color='Group',\n",
    "                 size='population',\n",
    "                 size_max=100,\n",
    "                 hover_name='country',\n",
    "                 animation_frame='year',\n",
    "                 animation_group='country',\n",
    "                 range_x = [0, 10],\n",
    "                 range_y = [-1, 3],\n",
    "                 labels={'babies_per_woman':'Tasa de fecundidad', 'log_gdp_per_day':'PIB per cápita diario (log)'})\n",
    "\n",
    "fig8.update_layout(\n",
    "    title='Tasa de fecundidad vs. PIB percápita diario',\n",
    "    title_x=0.43,  # Ajusta la posición horizontal del título\n",
    "    transition_duration=6000\n",
    ")\n",
    "fig8.show()\n",
    "fig8.write_html('fig8.html')"
   ]
  }
 ],
 "metadata": {
  "kernelspec": {
   "display_name": "Python 3",
   "language": "python",
   "name": "python3"
  },
  "language_info": {
   "codemirror_mode": {
    "name": "ipython",
    "version": 3
   },
   "file_extension": ".py",
   "mimetype": "text/x-python",
   "name": "python",
   "nbconvert_exporter": "python",
   "pygments_lexer": "ipython3",
   "version": "3.7.6"
  },
  "latex_envs": {
   "LaTeX_envs_menu_present": true,
   "autoclose": true,
   "autocomplete": true,
   "bibliofile": "biblio.bib",
   "cite_by": "apalike",
   "current_citInitial": 1,
   "eqLabelWithNumbers": true,
   "eqNumInitial": 1,
   "hotkeys": {
    "equation": "Ctrl-E",
    "itemize": "Ctrl-I"
   },
   "labels_anchors": false,
   "latex_user_defs": false,
   "report_style_numbering": false,
   "user_envs_cfg": false
  },
  "toc": {
   "base_numbering": 1,
   "nav_menu": {},
   "number_sections": true,
   "sideBar": true,
   "skip_h1_title": false,
   "title_cell": "Table of Contents",
   "title_sidebar": "Contents",
   "toc_cell": false,
   "toc_position": {},
   "toc_section_display": true,
   "toc_window_display": false
  }
 },
 "nbformat": 4,
 "nbformat_minor": 4
}
