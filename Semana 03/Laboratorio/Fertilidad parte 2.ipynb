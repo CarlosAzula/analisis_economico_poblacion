{
 "cells": [
  {
   "cell_type": "code",
   "execution_count": null,
   "metadata": {},
   "outputs": [],
   "source": [
    "# pip install --upgrade ipywidgets"
   ]
  },
  {
   "cell_type": "code",
   "execution_count": null,
   "metadata": {},
   "outputs": [],
   "source": [
    "import numpy as np \n",
    "import pandas as pd\n",
    "import matplotlib.pyplot as plt\n",
    "\n",
    "from ipywidgets import interact, widgets"
   ]
  },
  {
   "cell_type": "code",
   "execution_count": null,
   "metadata": {},
   "outputs": [],
   "source": [
    "data = pd.read_excel('data_consolidada.xlsx')\n",
    "data"
   ]
  },
  {
   "cell_type": "code",
   "execution_count": null,
   "metadata": {},
   "outputs": [],
   "source": [
    "set(data.region)"
   ]
  },
  {
   "cell_type": "code",
   "execution_count": null,
   "metadata": {},
   "outputs": [],
   "source": [
    "set(data.Group)"
   ]
  },
  {
   "cell_type": "code",
   "execution_count": null,
   "metadata": {},
   "outputs": [],
   "source": [
    "# pip install pycountry"
   ]
  },
  {
   "cell_type": "code",
   "execution_count": null,
   "metadata": {},
   "outputs": [],
   "source": [
    "import pycountry\n",
    "\n",
    "# Obtener todos los códigos ISO 3 de los países\n",
    "iso3_codes = [country.alpha_3 for country in pycountry.countries]\n",
    "\n",
    "# Mostrar los códigos ISO 3\n",
    "print(iso3_codes)\n"
   ]
  },
  {
   "cell_type": "code",
   "execution_count": null,
   "metadata": {},
   "outputs": [],
   "source": [
    "columns = [\"Country\", \"iso3\"]\n",
    "countries = []\n",
    "iso3_codes = []\n",
    "\n",
    "for country in pycountry.countries:\n",
    "    pais = country.name\n",
    "    countries.append(pais)\n",
    "    code = country.alpha_3\n",
    "    iso3_codes.append(code)\n",
    "    dataframe = pd.DataFrame(list(zip(countries,iso3_codes)),\n",
    "                         columns= columns)\n",
    "dataframe"
   ]
  },
  {
   "cell_type": "code",
   "execution_count": null,
   "metadata": {},
   "outputs": [],
   "source": [
    "paises1 = set(data.country)\n",
    "paises1"
   ]
  },
  {
   "cell_type": "code",
   "execution_count": null,
   "metadata": {},
   "outputs": [],
   "source": [
    "len(paises1)"
   ]
  },
  {
   "cell_type": "code",
   "execution_count": null,
   "metadata": {},
   "outputs": [],
   "source": [
    "paises2 = set(dataframe.Country)\n",
    "paises2"
   ]
  },
  {
   "cell_type": "code",
   "execution_count": null,
   "metadata": {},
   "outputs": [],
   "source": [
    "len(paises2)"
   ]
  },
  {
   "cell_type": "code",
   "execution_count": null,
   "metadata": {},
   "outputs": [],
   "source": [
    "# Primer DataFrame\n",
    "df1 = data\n",
    "\n",
    "# Segundo DataFrame\n",
    "df2 = dataframe\n",
    "\n",
    "# Combinar los DataFrames utilizando la columna \"Country\" como clave\n",
    "df_merged = pd.merge(df1, df2, left_on='country', right_on='Country', how='left')\n",
    "\n",
    "# Eliminar la columna \"Country\" duplicada\n",
    "df_merged = df_merged.drop(columns='Country')\n",
    "\n",
    "# Mostrar el resultado\n",
    "df_merged"
   ]
  },
  {
   "cell_type": "markdown",
   "metadata": {},
   "source": [
    "## Fertilidad (Niños por mujer)"
   ]
  },
  {
   "cell_type": "code",
   "execution_count": null,
   "metadata": {},
   "outputs": [],
   "source": [
    "america_grouped = df_merged[(df_merged.Group == 'America')].groupby('iso3')['babies_per_woman'].mean()\n",
    "america_grouped"
   ]
  },
  {
   "cell_type": "code",
   "execution_count": null,
   "metadata": {},
   "outputs": [],
   "source": [
    "# Crear el gráfico de barras\n",
    "# Tamaño de la figura (ancho x alto) en pulgadas\n",
    "plt.figure(figsize=(15, 6))  \n",
    "\n",
    "# Crear el gráfico de barras\n",
    "plt.bar(america_grouped.index, america_grouped)\n",
    "plt.xlabel('Países')\n",
    "plt.ylabel('Tasa de fertilidad')\n",
    "plt.title('Tasa de fertilidad por país en América')\n",
    "\n",
    "# Mostrar el gráfico\n",
    "plt.show()"
   ]
  },
  {
   "cell_type": "code",
   "execution_count": null,
   "metadata": {},
   "outputs": [],
   "source": [
    "EaAsPa_grouped = df_merged[(df_merged.Group == 'East Asia & Pacific')].groupby('iso3')['babies_per_woman'].mean().sort_values()\n",
    "EaAsPa_grouped"
   ]
  },
  {
   "cell_type": "code",
   "execution_count": null,
   "metadata": {},
   "outputs": [],
   "source": [
    "# Crear el gráfico de barras\n",
    "# Tamaño de la figura (ancho x alto) en pulgadas\n",
    "plt.figure(figsize=(15, 6))  \n",
    "\n",
    "# Crear el gráfico de barras\n",
    "plt.bar(EaAsPa_grouped.index, EaAsPa_grouped)\n",
    "plt.xlabel('Países')\n",
    "plt.ylabel('Tasa de fertilidad')\n",
    "plt.title('Tasa de fertilidad por país en América')\n",
    "\n",
    "# Mostrar el gráfico\n",
    "plt.show()"
   ]
  },
  {
   "cell_type": "code",
   "execution_count": null,
   "metadata": {},
   "outputs": [],
   "source": [
    "EuCeAs_grouped = df_merged[(df_merged.Group == 'Europe & Central Asia')].groupby('iso3')['babies_per_woman'].mean().sort_values()\n",
    "EuCeAs_grouped"
   ]
  },
  {
   "cell_type": "code",
   "execution_count": null,
   "metadata": {},
   "outputs": [],
   "source": [
    "# Crear el gráfico de barras\n",
    "# Tamaño de la figura (ancho x alto) en pulgadas\n",
    "plt.figure(figsize=(20, 6))  \n",
    "\n",
    "# Crear el gráfico de barras\n",
    "plt.bar(EuCeAs_grouped.index, EuCeAs_grouped)\n",
    "plt.xlabel('Países')\n",
    "plt.ylabel('Tasa de fertilidad')\n",
    "plt.title('Tasa de fertilidad por país en Europa y Asia Central')\n",
    "\n",
    "# Mostrar el gráfico\n",
    "plt.show()"
   ]
  },
  {
   "cell_type": "code",
   "execution_count": null,
   "metadata": {},
   "outputs": [],
   "source": [
    "MiEaNoAf_grouped = df_merged[(df_merged.Group == 'Middle East & North Africa')].groupby('iso3')['babies_per_woman'].mean().sort_values()\n",
    "MiEaNoAf_grouped"
   ]
  },
  {
   "cell_type": "code",
   "execution_count": null,
   "metadata": {},
   "outputs": [],
   "source": [
    "# Crear el gráfico de barras\n",
    "# Tamaño de la figura (ancho x alto) en pulgadas\n",
    "plt.figure(figsize=(15, 6))  \n",
    "\n",
    "# Crear el gráfico de barras\n",
    "plt.bar(MiEaNoAf_grouped.index, MiEaNoAf_grouped)\n",
    "plt.xlabel('Países')\n",
    "plt.ylabel('Tasa de fertilidad')\n",
    "plt.title('Tasa de fertilidad por país en Medio Oriente y Norte de Africa')\n",
    "\n",
    "# Mostrar el gráfico\n",
    "plt.show()"
   ]
  },
  {
   "cell_type": "code",
   "execution_count": null,
   "metadata": {},
   "outputs": [],
   "source": [
    "SoAs_grouped = df_merged[(df_merged.Group == 'South Asia')].groupby('country')['babies_per_woman'].mean().sort_values()\n",
    "SoAs_grouped"
   ]
  },
  {
   "cell_type": "code",
   "execution_count": null,
   "metadata": {},
   "outputs": [],
   "source": [
    "# Crear el gráfico de barras\n",
    "# Tamaño de la figura (ancho x alto) en pulgadas\n",
    "plt.figure(figsize=(12, 6))  \n",
    "\n",
    "# Crear el gráfico de barras\n",
    "plt.bar(SoAs_grouped.index, SoAs_grouped)\n",
    "plt.xlabel('Países')\n",
    "plt.ylabel('Tasa de fertilidad')\n",
    "plt.title('Tasa de fertilidad por país en Medio Oriente y Norte de Africa')\n",
    "\n",
    "# Mostrar el gráfico\n",
    "plt.show()"
   ]
  },
  {
   "cell_type": "code",
   "execution_count": null,
   "metadata": {},
   "outputs": [],
   "source": [
    "SuSaAf_grouped = df_merged[(df_merged.Group == 'Sub-Saharan Africa')].groupby('iso3')['babies_per_woman'].mean().sort_values()\n",
    "SuSaAf_grouped"
   ]
  },
  {
   "cell_type": "code",
   "execution_count": null,
   "metadata": {},
   "outputs": [],
   "source": [
    "# Crear el gráfico de barras\n",
    "# Tamaño de la figura (ancho x alto) en pulgadas\n",
    "plt.figure(figsize=(20, 6))  \n",
    "\n",
    "# Crear el gráfico de barras\n",
    "plt.bar(SuSaAf_grouped.index, SuSaAf_grouped)\n",
    "plt.xlabel('Países')\n",
    "plt.ylabel('Tasa de fertilidad')\n",
    "plt.title('Tasa de fertilidad por país en Medio Oriente y Norte de Africa')\n",
    "\n",
    "# Mostrar el gráfico\n",
    "plt.show()"
   ]
  },
  {
   "cell_type": "code",
   "execution_count": null,
   "metadata": {},
   "outputs": [],
   "source": [
    "set(df_merged.Group)"
   ]
  },
  {
   "cell_type": "markdown",
   "metadata": {},
   "source": [
    "## Porcentaje de Niños sobrevivientes hasta los 5 años"
   ]
  },
  {
   "cell_type": "code",
   "execution_count": null,
   "metadata": {},
   "outputs": [],
   "source": [
    "america_surviving = df_merged[(df_merged.Group == 'America')].groupby('iso3')['age5_surviving'].mean().sort_values()\n",
    "america_surviving"
   ]
  },
  {
   "cell_type": "code",
   "execution_count": null,
   "metadata": {},
   "outputs": [],
   "source": [
    "plt.bar?"
   ]
  },
  {
   "cell_type": "code",
   "execution_count": null,
   "metadata": {},
   "outputs": [],
   "source": [
    "# Crear el gráfico de barras\n",
    "# Tamaño de la figura (ancho x alto) en pulgadas\n",
    "plt.figure(figsize=(20, 6))  \n",
    "\n",
    "# Crear el gráfico de barras\n",
    "plt.bar(america_surviving.index, america_surviving, color ='red')\n",
    "plt.xlabel('Países')\n",
    "plt.ylabel('% Sobrevivencia')\n",
    "plt.title('Sobrevivencia de menores a 5 años por país en America')\n",
    "\n",
    "# Establecer límite inferior del eje y en 70\n",
    "plt.ylim(70, None)\n",
    "\n",
    "# Mostrar el gráfico\n",
    "plt.show()"
   ]
  },
  {
   "cell_type": "code",
   "execution_count": null,
   "metadata": {},
   "outputs": [],
   "source": [
    "EaAsPa_surviving = df_merged[(df_merged.Group == 'East Asia & Pacific')].groupby('iso3')['age5_surviving'].mean().sort_values()\n",
    "EaAsPa_surviving"
   ]
  },
  {
   "cell_type": "code",
   "execution_count": null,
   "metadata": {},
   "outputs": [],
   "source": [
    "# Crear el gráfico de barras\n",
    "# Tamaño de la figura (ancho x alto) en pulgadas\n",
    "plt.figure(figsize=(20, 6))  \n",
    "\n",
    "# Crear el gráfico de barras\n",
    "plt.bar(EaAsPa_surviving.index, EaAsPa_surviving, color ='red')\n",
    "plt.xlabel('Países')\n",
    "plt.ylabel('% de Sobrevivencia')\n",
    "plt.title('Sobrevivencia de menores de 5 años por país en Asia Oriental y Pacifico')\n",
    "\n",
    "# Establecer límite inferior del eje y en 70\n",
    "plt.ylim(70, None)\n",
    "\n",
    "# Mostrar el gráfico\n",
    "plt.show()"
   ]
  },
  {
   "cell_type": "code",
   "execution_count": null,
   "metadata": {},
   "outputs": [],
   "source": [
    "EuCeAs_surviving = df_merged[(df_merged.Group == 'Europe & Central Asia')].groupby('iso3')['age5_surviving'].mean().sort_values()\n",
    "EuCeAs_surviving"
   ]
  },
  {
   "cell_type": "code",
   "execution_count": null,
   "metadata": {},
   "outputs": [],
   "source": [
    "# Crear el gráfico de barras\n",
    "# Tamaño de la figura (ancho x alto) en pulgadas\n",
    "plt.figure(figsize=(20, 6))  \n",
    "\n",
    "# Crear el gráfico de barras\n",
    "plt.bar(EuCeAs_surviving.index, EuCeAs_surviving, color ='red')\n",
    "plt.xlabel('Países')\n",
    "plt.ylabel('% de sobrevivencia')\n",
    "plt.title('Sobrevivencia de menores a 5 años por país en Europa y Asia Central')\n",
    "\n",
    "# Establecer límite inferior del eje y en 70\n",
    "plt.ylim(80, None)\n",
    "\n",
    "# Mostrar el gráfico\n",
    "plt.show()"
   ]
  },
  {
   "cell_type": "code",
   "execution_count": null,
   "metadata": {},
   "outputs": [],
   "source": [
    "MiEaNa_surviving = df_merged[(df_merged.Group == 'Middle East & North Africa')].groupby('iso3')['age5_surviving'].mean().sort_values()\n",
    "MiEaNa_surviving"
   ]
  },
  {
   "cell_type": "code",
   "execution_count": null,
   "metadata": {},
   "outputs": [],
   "source": [
    "# Crear el gráfico de barras\n",
    "# Tamaño de la figura (ancho x alto) en pulgadas\n",
    "plt.figure(figsize=(20, 6))  \n",
    "\n",
    "# Crear el gráfico de barras\n",
    "plt.bar(MiEaNa_surviving.index, MiEaNa_surviving, color ='red')\n",
    "plt.xlabel('Países')\n",
    "plt.ylabel('% de sobrevivencia')\n",
    "plt.title('Sobrevivencia de menores a 5 años por país en Medio Oriente y Norte de Africa')\n",
    "\n",
    "# Establecer límite inferior del eje y en 70\n",
    "plt.ylim(70, None)\n",
    "\n",
    "# Mostrar el gráfico\n",
    "plt.show()"
   ]
  },
  {
   "cell_type": "code",
   "execution_count": null,
   "metadata": {},
   "outputs": [],
   "source": [
    "SoAs_surviving = df_merged[(df_merged.Group == 'South Asia')].groupby('country')['age5_surviving'].mean().sort_values()\n",
    "SoAs_surviving"
   ]
  },
  {
   "cell_type": "code",
   "execution_count": null,
   "metadata": {},
   "outputs": [],
   "source": [
    "# Crear el gráfico de barras\n",
    "# Tamaño de la figura (ancho x alto) en pulgadas\n",
    "plt.figure(figsize=(20, 6))  \n",
    "\n",
    "# Crear el gráfico de barras\n",
    "plt.bar(SoAs_surviving.index, SoAs_surviving, color ='red')\n",
    "plt.xlabel('Países')\n",
    "plt.ylabel('% de sobrevivencia')\n",
    "plt.title('Sobrevivencia de menores a 5 años por país en Sur de Asia')\n",
    "\n",
    "# Establecer límite inferior del eje y en 70\n",
    "plt.ylim(70, None)\n",
    "\n",
    "# Mostrar el gráfico\n",
    "plt.show()"
   ]
  },
  {
   "cell_type": "code",
   "execution_count": null,
   "metadata": {},
   "outputs": [],
   "source": [
    "SuSaAf_surviving = df_merged[(df_merged.Group == 'Sub-Saharan Africa')].groupby('iso3')['age5_surviving'].mean().sort_values()\n",
    "SuSaAf_surviving"
   ]
  },
  {
   "cell_type": "code",
   "execution_count": null,
   "metadata": {},
   "outputs": [],
   "source": [
    "# Crear el gráfico de barras\n",
    "# Tamaño de la figura (ancho x alto) en pulgadas\n",
    "plt.figure(figsize=(20, 6))  \n",
    "\n",
    "# Crear el gráfico de barras\n",
    "plt.bar(SuSaAf_surviving.index, SuSaAf_surviving, color ='red')\n",
    "plt.xlabel('Países')\n",
    "plt.ylabel('% de sobrevivencia')\n",
    "plt.title('Sobrevivencia de menores a 5 años por país en Medio Oriente y Norte de Africa')\n",
    "\n",
    "# Establecer límite inferior del eje y en 70\n",
    "plt.ylim(65, None)\n",
    "\n",
    "# Mostrar el gráfico\n",
    "plt.show()"
   ]
  },
  {
   "cell_type": "code",
   "execution_count": null,
   "metadata": {},
   "outputs": [],
   "source": [
    "df_merged"
   ]
  },
  {
   "cell_type": "code",
   "execution_count": null,
   "metadata": {},
   "outputs": [],
   "source": [
    "america_grouped"
   ]
  },
  {
   "cell_type": "code",
   "execution_count": null,
   "metadata": {},
   "outputs": [],
   "source": [
    "america_gdp_mean = df_merged[(df_merged.Group == 'America')].groupby('iso3')['gdp_per_capita'].mean().sort_values()\n",
    "america_gdp_mean"
   ]
  },
  {
   "cell_type": "code",
   "execution_count": null,
   "metadata": {},
   "outputs": [],
   "source": [
    "# Crear un DataFrame a partir de las variables\n",
    "df_america = pd.DataFrame({'Tasa de fertilidad': america_grouped,\n",
    "                           'Promedio de GDP': america_gdp_mean})\n",
    "\n",
    "# Mostrar el DataFrame\n",
    "df_america"
   ]
  },
  {
   "cell_type": "code",
   "execution_count": null,
   "metadata": {},
   "outputs": [],
   "source": [
    "df_america.index"
   ]
  },
  {
   "cell_type": "code",
   "execution_count": null,
   "metadata": {},
   "outputs": [],
   "source": [
    "df_america['Tasa de fertilidad']"
   ]
  },
  {
   "cell_type": "code",
   "execution_count": null,
   "metadata": {},
   "outputs": [],
   "source": [
    "# Datos de ejemplo (tasas de fertilidad y PIB per cápita por país)\n",
    "paises = df_america.index\n",
    "tasas_fertilidad = df_america['Tasa de fertilidad']\n",
    "pib_per_capita = df_america['Promedio de GDP']\n",
    "\n",
    "# Tamaño de la figura (ancho x alto) en pulgadas\n",
    "plt.figure(figsize=(10, 7))  \n",
    "\n",
    "# Crear el gráfico de dispersión\n",
    "plt.scatter(pib_per_capita, tasas_fertilidad)\n",
    "plt.xlabel('PIB per cápita')\n",
    "plt.ylabel('Tasa de fertilidad')\n",
    "plt.title('Relación entre PIB per cápita y tasa de fertilidad')\n",
    "\n",
    "# Etiquetar los puntos con los nombres de los países\n",
    "for i, pais in enumerate(paises):\n",
    "    plt.annotate(pais, (pib_per_capita[i], tasas_fertilidad[i]))\n",
    "\n",
    "# Mostrar el gráfico\n",
    "plt.show()\n"
   ]
  },
  {
   "cell_type": "code",
   "execution_count": null,
   "metadata": {},
   "outputs": [],
   "source": [
    "df_merged_gdp = df_merged.groupby('iso3')['gdp_per_capita'].mean()\n",
    "df_merged_gdp"
   ]
  },
  {
   "cell_type": "code",
   "execution_count": null,
   "metadata": {},
   "outputs": [],
   "source": [
    "df_merged_bpw = df_merged.groupby('iso3')['babies_per_woman'].mean()\n",
    "df_merged_bpw"
   ]
  },
  {
   "cell_type": "code",
   "execution_count": null,
   "metadata": {},
   "outputs": [],
   "source": [
    "# Crear un DataFrame a partir de las variables\n",
    "df_GDP_bpw = pd.DataFrame({'Tasa de fertilidad': df_merged_bpw,\n",
    "                           'Promedio de GDP': df_merged_gdp})\n",
    "\n",
    "# Mostrar el DataFrame\n",
    "df_GDP_bpw"
   ]
  },
  {
   "cell_type": "code",
   "execution_count": null,
   "metadata": {},
   "outputs": [],
   "source": [
    "# Datos de ejemplo (tasas de fertilidad y PIB per cápita por país)\n",
    "paises = df_GDP_bpw.index\n",
    "tasas_fertilidad = df_GDP_bpw['Tasa de fertilidad']\n",
    "pib_per_capita = df_GDP_bpw['Promedio de GDP']\n",
    "\n",
    "# Tamaño de la figura (ancho x alto) en pulgadas\n",
    "plt.figure(figsize=(10, 7))  \n",
    "\n",
    "# Crear el gráfico de dispersión\n",
    "plt.scatter(pib_per_capita, tasas_fertilidad)\n",
    "plt.xlabel('PIB per cápita')\n",
    "plt.ylabel('Tasa de fertilidad')\n",
    "plt.title('Relación entre PIB per cápita y tasa de fertilidad')\n",
    "\n",
    "# Etiquetar los puntos con los nombres de los países\n",
    "for i, pais in enumerate(paises):\n",
    "    plt.annotate(pais, (pib_per_capita[i], tasas_fertilidad[i]))\n",
    "\n",
    "# Mostrar el gráfico\n",
    "plt.show()\n"
   ]
  },
  {
   "cell_type": "code",
   "execution_count": null,
   "metadata": {},
   "outputs": [],
   "source": [
    "# Datos de ejemplo (tasas de fertilidad y PIB per cápita por país)\n",
    "paises = df_GDP_bpw.index\n",
    "tasas_fertilidad = df_GDP_bpw['Tasa de fertilidad']\n",
    "pib_per_capita = df_GDP_bpw['Promedio de GDP']\n",
    "\n",
    "# Tamaño de la figura (ancho x alto) en pulgadas\n",
    "plt.figure(figsize=(10, 7))  \n",
    "\n",
    "# Crear el gráfico de dispersión\n",
    "plt.scatter(pib_per_capita, tasas_fertilidad)\n",
    "plt.xlabel('PIB per cápita')\n",
    "plt.ylabel('Tasa de fertilidad')\n",
    "plt.title('Relación entre PIB per cápita y tasa de fertilidad')\n",
    "\n",
    "# Establecer escala logarítmica en el eje x\n",
    "plt.xscale('log')\n",
    "\n",
    "# Etiquetar los puntos con los nombres de los países\n",
    "for i, pais in enumerate(paises):\n",
    "    plt.annotate(pais, (pib_per_capita[i], tasas_fertilidad[i]))\n",
    "\n",
    "# Mostrar el gráfico\n",
    "plt.show()\n"
   ]
  },
  {
   "cell_type": "code",
   "execution_count": null,
   "metadata": {},
   "outputs": [],
   "source": [
    "peru = df_merged[(df_merged.country == 'Peru')]\n",
    "peru "
   ]
  },
  {
   "cell_type": "code",
   "execution_count": null,
   "metadata": {},
   "outputs": [],
   "source": [
    "# Datos de ejemplo de la tasa de fecundidad a lo largo del tiempo\n",
    "años = peru.year\n",
    "tasa_fecundidad = peru['babies_per_woman']\n",
    "\n",
    "# Tamaño de la figura (ancho x alto) en pulgadas\n",
    "plt.figure(figsize=(10, 6))\n",
    "\n",
    "# Crear el gráfico de área\n",
    "plt.fill_between(años, tasa_fecundidad, color='skyblue', alpha=0.4)\n",
    "\n",
    "# Configurar los ejes y las etiquetas\n",
    "plt.xlabel('Año')\n",
    "plt.ylabel('Tasa de fecundidad')\n",
    "plt.title('Cambios históricos en la tasa de fecundidad en Peru')\n",
    "\n",
    "# Mostrar el gráfico\n",
    "plt.show()\n"
   ]
  },
  {
   "cell_type": "code",
   "execution_count": null,
   "metadata": {},
   "outputs": [],
   "source": []
  },
  {
   "cell_type": "code",
   "execution_count": null,
   "metadata": {},
   "outputs": [],
   "source": [
    "df_clean = df_merged.groupby('year')['babies_per_woman'].mean()\n",
    "df_clean"
   ]
  },
  {
   "cell_type": "code",
   "execution_count": null,
   "metadata": {},
   "outputs": [],
   "source": []
  },
  {
   "cell_type": "code",
   "execution_count": null,
   "metadata": {},
   "outputs": [],
   "source": [
    "# Datos de ejemplo de la tasa de fecundidad a lo largo del tiempo\n",
    "años = df_clean.index\n",
    "tasa_fecundidad = df_clean\n",
    "\n",
    "# Tamaño de la figura (ancho x alto) en pulgadas\n",
    "plt.figure(figsize=(10, 6))\n",
    "\n",
    "# Crear el gráfico de área\n",
    "plt.fill_between(años, tasa_fecundidad, color='skyblue', alpha=0.4)\n",
    "\n",
    "# Configurar los ejes y las etiquetas\n",
    "plt.xlabel('Año')\n",
    "plt.ylabel('Tasa de fecundidad')\n",
    "plt.title('Cambios históricos en la tasa de fecundidad en el mundo')\n",
    "\n",
    "# Mostrar el gráfico\n",
    "plt.show()\n"
   ]
  },
  {
   "cell_type": "code",
   "execution_count": null,
   "metadata": {},
   "outputs": [],
   "source": [
    "import bokeh.sampledata\n",
    "from bokeh.sampledata import gapminder\n",
    "\n",
    "# Declare dataset\n",
    "fertility = gapminder.fertility.reset_index().melt(id_vars='Country', var_name='Year', value_name='Fertility')\n",
    "population = gapminder.population.reset_index().melt(id_vars='Country', var_name='Year', value_name='Population')\n",
    "life_expectancy = gapminder.life_expectancy.reset_index().melt(id_vars='Country', var_name='Year', value_name='Life Expectancy')\n",
    "gapminder_df = pd.merge(pd.merge(pd.merge(fertility, population), life_expectancy), gapminder.regions, on='Country')\n",
    "gapminder_df.Year = gapminder_df.Year.astype('int')"
   ]
  },
  {
   "cell_type": "code",
   "execution_count": null,
   "metadata": {},
   "outputs": [],
   "source": [
    "gapminder_df"
   ]
  },
  {
   "cell_type": "code",
   "execution_count": null,
   "metadata": {},
   "outputs": [],
   "source": [
    "gapminder_df.dropna(inplace=True)"
   ]
  },
  {
   "cell_type": "code",
   "execution_count": null,
   "metadata": {},
   "outputs": [],
   "source": [
    "gapminder_df"
   ]
  },
  {
   "cell_type": "code",
   "execution_count": null,
   "metadata": {},
   "outputs": [],
   "source": [
    "# pip install psutil"
   ]
  },
  {
   "cell_type": "code",
   "execution_count": null,
   "metadata": {},
   "outputs": [],
   "source": []
  }
 ],
 "metadata": {
  "kernelspec": {
   "display_name": "Python 3",
   "language": "python",
   "name": "python3"
  },
  "language_info": {
   "codemirror_mode": {
    "name": "ipython",
    "version": 3
   },
   "file_extension": ".py",
   "mimetype": "text/x-python",
   "name": "python",
   "nbconvert_exporter": "python",
   "pygments_lexer": "ipython3",
   "version": "3.7.6"
  },
  "latex_envs": {
   "LaTeX_envs_menu_present": true,
   "autoclose": true,
   "autocomplete": true,
   "bibliofile": "biblio.bib",
   "cite_by": "apalike",
   "current_citInitial": 1,
   "eqLabelWithNumbers": true,
   "eqNumInitial": 1,
   "hotkeys": {
    "equation": "Ctrl-E",
    "itemize": "Ctrl-I"
   },
   "labels_anchors": false,
   "latex_user_defs": false,
   "report_style_numbering": false,
   "user_envs_cfg": false
  },
  "toc": {
   "base_numbering": 1,
   "nav_menu": {},
   "number_sections": true,
   "sideBar": true,
   "skip_h1_title": false,
   "title_cell": "Table of Contents",
   "title_sidebar": "Contents",
   "toc_cell": false,
   "toc_position": {},
   "toc_section_display": true,
   "toc_window_display": false
  }
 },
 "nbformat": 4,
 "nbformat_minor": 4
}
