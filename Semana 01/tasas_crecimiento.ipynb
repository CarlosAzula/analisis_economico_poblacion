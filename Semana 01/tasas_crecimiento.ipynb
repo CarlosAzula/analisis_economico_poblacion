{
 "cells": [
  {
   "cell_type": "code",
   "execution_count": null,
   "metadata": {},
   "outputs": [],
   "source": [
    "import matplotlib.pyplot as plt\n",
    "\n",
    "# Datos\n",
    "periodo = ['1961 - 1972', '1972 - 1981', '1981 - 1993', '1993 - 2007', '2007 - 2017']\n",
    "tasas_crecimiento = [2.57, 2.32, 1.68, 1.66, 0.93]\n",
    "\n",
    "# Crear el gráfico de barras con tamaño personalizado\n",
    "plt.figure(figsize=(10, 7))\n",
    "plt.bar(periodo, tasas_crecimiento)\n",
    "\n",
    "# Configurar el título y los ejes\n",
    "plt.title(\"Perú: Tendencia del Crecimiento Poblacional, 1961-2007\", fontsize=20)\n",
    "plt.xlabel(\"Período\")\n",
    "plt.ylabel(\"Tasa de Crecimiento (%)\")\n",
    "\n",
    "# Ajustar el espacio entre el título y el gráfico\n",
    "plt.subplots_adjust(top=0.85)\n",
    "\n",
    "# Mostrar la fuente\n",
    "plt.text(0, -0.15, \"Fuente: INEI - Censos Nacionales de Población y Vivienda 1961, 1972, 1981, 1993, 2007, 2017\", fontsize=9, transform=plt.gca().transAxes)\n",
    "\n",
    "# Mostrar el gráfico de barras\n",
    "plt.show()"
   ]
  },
  {
   "cell_type": "code",
   "execution_count": null,
   "metadata": {},
   "outputs": [],
   "source": [
    "# Datos\n",
    "periodo = ['1961 - 1972', '1972 - 1981', '1981 - 1993', '1993 - 2007', '2007 - 2017']\n",
    "tasas_crecimiento = [2.57, 2.32, 1.68, 1.66, 0.93]\n",
    "\n",
    "# Crear el gráfico de barras con tamaño personalizado\n",
    "plt.figure(figsize=(10, 7))\n",
    "\n",
    "# Asignar colores diferentes a cada barra y mostrar los valores\n",
    "for i in range(len(periodo)):\n",
    "    plt.bar(periodo[i], tasas_crecimiento[i], color=plt.cm.Set3(i/len(periodo)))\n",
    "    plt.text(i, tasas_crecimiento[i], f'{tasas_crecimiento[i]}%', ha='center', va='bottom')\n",
    "\n",
    "# Configurar el título y los ejes\n",
    "# plt.title(\"Perú: Tendencia del Crecimiento Poblacional, 1961-2007\", fontsize=20)\n",
    "plt.xlabel(\"Período\")\n",
    "plt.ylabel(\"Tasa de Crecimiento (%)\")\n",
    "\n",
    "# Mostrar la fuente\n",
    "plt.text(0, -0.15, \"Fuente: INEI - Censos Nacionales de Población y Vivienda 1961, 1972, 1981, 1993, 2007, 2017\", fontsize=9, transform=plt.gca().transAxes)\n",
    "\n",
    "# Guardar el gráfico como una imagen PNG\n",
    "plt.savefig('tasas_crecimiento.png', format='png')\n",
    "\n",
    "# Mostrar el gráfico de barras\n",
    "plt.show()"
   ]
  },
  {
   "cell_type": "code",
   "execution_count": null,
   "metadata": {},
   "outputs": [],
   "source": []
  }
 ],
 "metadata": {
  "kernelspec": {
   "display_name": "Python 3",
   "language": "python",
   "name": "python3"
  },
  "language_info": {
   "codemirror_mode": {
    "name": "ipython",
    "version": 3
   },
   "file_extension": ".py",
   "mimetype": "text/x-python",
   "name": "python",
   "nbconvert_exporter": "python",
   "pygments_lexer": "ipython3",
   "version": "3.7.6"
  },
  "latex_envs": {
   "LaTeX_envs_menu_present": true,
   "autoclose": true,
   "autocomplete": true,
   "bibliofile": "biblio.bib",
   "cite_by": "apalike",
   "current_citInitial": 1,
   "eqLabelWithNumbers": true,
   "eqNumInitial": 1,
   "hotkeys": {
    "equation": "Ctrl-E",
    "itemize": "Ctrl-I"
   },
   "labels_anchors": false,
   "latex_user_defs": false,
   "report_style_numbering": false,
   "user_envs_cfg": false
  },
  "toc": {
   "base_numbering": 1,
   "nav_menu": {},
   "number_sections": true,
   "sideBar": true,
   "skip_h1_title": false,
   "title_cell": "Table of Contents",
   "title_sidebar": "Contents",
   "toc_cell": false,
   "toc_position": {},
   "toc_section_display": true,
   "toc_window_display": false
  }
 },
 "nbformat": 4,
 "nbformat_minor": 4
}
