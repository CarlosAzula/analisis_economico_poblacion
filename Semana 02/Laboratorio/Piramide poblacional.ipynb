{
 "cells": [
  {
   "cell_type": "markdown",
   "metadata": {},
   "source": [
    "# Piramides de Población\n",
    "\n",
    "> Importamos las bibliotecas `matplotlib.pyplot`, `numpy` y `pandas`, lo cual es necesario para realizar visualizaciones y manipulaciones de datos en Python."
   ]
  },
  {
   "cell_type": "code",
   "execution_count": null,
   "metadata": {},
   "outputs": [],
   "source": [
    "import matplotlib.pyplot as plt\n",
    "import numpy as np\n",
    "import pandas as pd"
   ]
  },
  {
   "cell_type": "markdown",
   "metadata": {},
   "source": [
    "> Ahora puedes utilizar estas bibliotecas para crear gráficos, realizar operaciones numéricas y trabajar con los datos contenidos en los DataFrames de Pandas.\n",
    "\n",
    ">\n",
    "> Visite la Organización de las Naciones Unidas, en la siguiente direccion \n",
    ": [Departamento de Asuntos Económicos y Sociales: División de Población](https://population.un.org/wpp/Download/Standard/CSV/) y descargar el archivo:  **1950-2100, medium (ZIP, 12.38 MB) Population on 01 July, by 5-year age groups**. Guarde el archivo en la carpeta de trabajo y extraiga el archivo CSV:> "
   ]
  },
  {
   "cell_type": "markdown",
   "metadata": {},
   "source": [
    "## Lectura de un archivo CSV\n",
    "\n",
    "> El código proporcionado utiliza la biblioteca pandas para leer un archivo `CSV` llamado `'WPP2022_PopulationByAge5GroupSex_Medium.csv'` y guarda los datos en un DataFrame llamado `df1`. Luego, se muestra una vista previa de las primeras filas del DataFrame utilizando el método `head()`."
   ]
  },
  {
   "cell_type": "code",
   "execution_count": null,
   "metadata": {
    "scrolled": true
   },
   "outputs": [],
   "source": [
    "df1 = pd.read_csv('WPP2022_PopulationByAge5GroupSex_Medium.csv', low_memory=False)\n",
    "df1.head()"
   ]
  },
  {
   "cell_type": "markdown",
   "metadata": {},
   "source": [
    ">El método `head()` muestra por defecto las primeras 5 filas del DataFrame `df1`. Si deseas mostrar un número diferente de filas, puedes pasar ese número como argumento al método `head()`. Por ejemplo, `df1.head(10)` mostrará las primeras 10 filas del DataFrame."
   ]
  },
  {
   "cell_type": "markdown",
   "metadata": {},
   "source": [
    "## Obtener la forma del DataFrame\n",
    "\n",
    "> Para obtener la forma (`shape`) de un DataFrame llamado `df1`, puedes utilizar el atributo shape. Esto te dará una tupla que contiene el número de filas y columnas presentes en el DataFrame."
   ]
  },
  {
   "cell_type": "code",
   "execution_count": null,
   "metadata": {},
   "outputs": [],
   "source": [
    "df1.shape"
   ]
  },
  {
   "cell_type": "markdown",
   "metadata": {},
   "source": [
    "## Obtener la información del Dataframe\n",
    "\n",
    "> El método `info()` en pandas proporciona información sobre un DataFrame, incluyendo el índice, el número de columnas, los nombres de las columnas, el número de valores no nulos y los tipos de datos de cada columna. Para obtener la información del DataFrame `df1`, puedes utilizar el siguiente código:"
   ]
  },
  {
   "cell_type": "code",
   "execution_count": null,
   "metadata": {},
   "outputs": [],
   "source": [
    "df1.info"
   ]
  },
  {
   "cell_type": "markdown",
   "metadata": {},
   "source": [
    "> Esto muestra la información resumida del DataFrame, incluyendo el número total de filas, el nombre de cada columna, la cantidad de valores no nulos en cada columna y el tipo de datos de cada columna. También mostrará el uso de memoria del DataFrame.\n",
    "\n",
    "## Obtener las columnas del Dataframe\n",
    ">\n",
    "> Para obtener los nombres de las columnas en el DataFrame `df1`, puedes utilizar el atributo `columns`. Esto te dará una lista con los nombres de las columnas presentes en el DataFrame.\n",
    ">\n",
    "> Aquí tienes un ejemplo de cómo usarlo:"
   ]
  },
  {
   "cell_type": "code",
   "execution_count": null,
   "metadata": {},
   "outputs": [],
   "source": [
    "df1.columns"
   ]
  },
  {
   "cell_type": "markdown",
   "metadata": {},
   "source": [
    "> Se accede a cada uno de estos datos mediante:"
   ]
  },
  {
   "cell_type": "code",
   "execution_count": null,
   "metadata": {},
   "outputs": [],
   "source": [
    "len(df1)"
   ]
  },
  {
   "cell_type": "code",
   "execution_count": null,
   "metadata": {},
   "outputs": [],
   "source": [
    "len(df1.columns)"
   ]
  },
  {
   "cell_type": "markdown",
   "metadata": {},
   "source": [
    "## Eliminar columnas del DataFrame. \n",
    "\n",
    "> La función `drop()` se utiliza para eliminar filas o columnas de un DataFrame en pandas. En este caso, se eliminan las columnas con los nombres `'SortOrder'`, `'LocID'`, `'Notes'`, `'ISO2_code'`, `'SDMX_code'`, `'LocTypeID'`, `'LocTypeName'`, `'ParentID'`, `'VarID'`, `'Variant'`y `'MidPeriod'` del DataFrame `df1`.\n",
    ">\n",
    "> Aquí está el código completo:"
   ]
  },
  {
   "cell_type": "code",
   "execution_count": null,
   "metadata": {},
   "outputs": [],
   "source": [
    "df1 = df1.drop(['SortOrder', 'LocID', 'Notes', 'ISO2_code', 'SDMX_code',\n",
    "       'LocTypeID', 'LocTypeName', 'ParentID', 'VarID', 'Variant', 'AgeGrpSpan',\n",
    "       'MidPeriod'], axis=1)\n",
    "df1"
   ]
  },
  {
   "cell_type": "markdown",
   "metadata": {},
   "source": [
    "> El argumento `axis=1` se utiliza para indicar que se deben eliminar columnas en lugar de filas. Después de ejecutar este código, el DataFrame `df1` se actualizará y contendrá solo las columnas restantes después de eliminar las mencionadas.\n",
    ">\n",
    "> Recuerda que si deseas guardar los cambios en el DataFrame original, debes asignar el resultado de `drop()` nuevamente a `df1`, como se muestra en el código anterior.\n",
    "\n",
    "## Obtención de países únicos de la columna `\"Location\"` del DataFrame\n",
    "\n",
    "> El código necesario para crear un conjunto (`set`) llamado `paises1` que contiene los valores únicos de la columna \"Location\" del DataFrame `pop_df1`. Esto se hace utilizando el constructor `set()` y pasando la columna como argumento.\n",
    "\n",
    "Aquí tienes un ejemplo de cómo usarlo:"
   ]
  },
  {
   "cell_type": "code",
   "execution_count": null,
   "metadata": {},
   "outputs": [],
   "source": [
    "paises1 = set(df1.Location)\n",
    "print(paises1)"
   ]
  },
  {
   "cell_type": "markdown",
   "metadata": {},
   "source": [
    "> Esto imprimr el conjunto `paises1`, que contiene los valores únicos de la columna  `\"Location\"` del DataFrame `df1`.\n",
    ">\n",
    "> Recuerda que un conjunto (`set`) en Python es una colección desordenada de elementos únicos. Al crear un conjunto a partir de una columna, se eliminan automáticamente los duplicados, por lo que solo se conservan los valores únicos de la columna `\"Location\"`.\n",
    "\n",
    "## Obtención de la cantidad de países únicos en el conjunto"
   ]
  },
  {
   "cell_type": "code",
   "execution_count": null,
   "metadata": {},
   "outputs": [],
   "source": [
    "cantidad_paises = len(paises1)\n",
    "print(\"Cantidad de países únicos en el conjunto:\", cantidad_paises)"
   ]
  },
  {
   "cell_type": "markdown",
   "metadata": {},
   "source": [
    "> El código imprime la cantidad de países únicos presentes en el conjunto `paises1` y se mostrará el título `\"Cantidad de países únicos en el conjunto:\"` antes de la salida del resultado.\n",
    "\n",
    "## Obtención de los valores únicos de la columna `\"Time\"` del DataFrame\n",
    "Si deseas obtener los valores únicos de la columna `\"Time\"` del DataFrame `df1`, puedes utilizar la función `set()` para crear un conjunto de esos valores. Aquí tienes el código:"
   ]
  },
  {
   "cell_type": "code",
   "execution_count": null,
   "metadata": {},
   "outputs": [],
   "source": [
    "valores_unicos_time = set(df1.Time)\n",
    "print(valores_unicos_time)"
   ]
  },
  {
   "cell_type": "markdown",
   "metadata": {},
   "source": [
    "> Esto creará un conjunto llamado `valores_unicos_time` que contendrá los valores únicos de la columna `\"Time\"` del DataFrame `df1`. Luego, se imprimirá el conjunto para mostrar los valores únicos.\n",
    ">\n",
    "> Recuerda que un conjunto (`set`) en Python es una colección desordenada de elementos únicos. Al crear un conjunto a partir de una columna, se eliminan automáticamente los valores duplicados, dejando solo los valores únicos."
   ]
  },
  {
   "cell_type": "markdown",
   "metadata": {},
   "source": [
    "## Obtención del valor mínimo y máximo de la columna `\"Time\"`\n",
    "\n",
    "> Si deseas obtener el valor mínimo de la columna `\"Time\"` en el DataFrame `df1`, puedes usar el método `min()`. Aquí tienes el código:"
   ]
  },
  {
   "cell_type": "code",
   "execution_count": null,
   "metadata": {},
   "outputs": [],
   "source": [
    "valor_minimo_time = df1.Time.min()\n",
    "print(\"Valor mínimo del tiempo en el dataframe:\", valor_minimo_time)"
   ]
  },
  {
   "cell_type": "markdown",
   "metadata": {},
   "source": [
    "> Si deseas obtener el valor máximo de la columna `\"Time\"` en el DataFrame `df1`, puedes usar el método `max()`. Aquí tienes el código:"
   ]
  },
  {
   "cell_type": "code",
   "execution_count": null,
   "metadata": {},
   "outputs": [],
   "source": [
    "valor_maximo_time = df1.Time.max()\n",
    "print(\"Valor máximo del tiempo en el dataframe:\", valor_maximo_time)"
   ]
  },
  {
   "cell_type": "markdown",
   "metadata": {},
   "source": [
    "> Asegúrate de que el nombre de la columna `\"Time\"` sea exactamente como está en tu DataFrame para obtener el resultado correcto."
   ]
  },
  {
   "cell_type": "markdown",
   "metadata": {},
   "source": [
    "## Obtención de las característica de las cohortes\n",
    "\n",
    "> Una cohorte se refiere a un grupo de individuos que comparten una característica o experiencia común dentro de un período específico. En el contexto de estudios demográficos, una cohorte se define como un grupo de personas que nacen o experimentan un evento similar en un período de tiempo particular.\n",
    "> \n",
    "> Las cohortes pueden ser utilizadas en diversas disciplinas, como la demografía, la sociología, la psicología y el marketing, entre otras. Al analizar las cohortes, se busca comprender cómo los eventos o características compartidas pueden influir en el comportamiento, las actitudes y las experiencias de un grupo a lo largo del tiempo.\n",
    "> \n",
    "> Por ejemplo, en el ámbito demográfico, se pueden estudiar cohortes de nacimientos para analizar cómo los cambios en las tasas de natalidad afectan la estructura de la población a lo largo de las generaciones. También se pueden estudiar cohortes de ingreso para examinar cómo los eventos históricos, como recesiones económicas, afectan la trayectoria económica y laboral de un grupo de personas a lo largo de sus vidas."
   ]
  },
  {
   "cell_type": "markdown",
   "metadata": {},
   "source": [
    "### Valores únicos de la columna `\"AgeGrp\"`\n",
    "\n",
    "> La columna `\"AgeGrp\"` hace referencia a los grupos de edad en un conjunto de datos demográficos. En lugar de representar edades individuales, se agrupan las edades en rangos específicos para facilitar el análisis y la visualización de los datos.\n",
    "> \n",
    "> La columna `\"AgeGrp\"` suele contener etiquetas o códigos que representan los grupos de edad. Estos códigos pueden variar según el conjunto de datos y el propósito del estudio. Algunos ejemplos comunes de etiquetas de grupos de edad podrían ser `\"0-4\"` para el grupo de edad de 0 a 4 años, `\"5-9\"` para el grupo de edad de 5 a 9 años, `\"10-14\"` para el grupo de edad de 10 a 14 años, y así sucesivamente.\n",
    "> \n",
    "> La columna `\"AgeGrp\"` se utiliza para clasificar los datos en categorías de grupos de edad, lo que facilita el análisis y la comparación entre diferentes grupos de población.\n",
    "> \n",
    "> Es importante tener en cuenta que la columna `\"AgeGrp\"` suele estar relacionada con otras columnas demográficas, como la población o las tasas de natalidad y mortalidad, y se utiliza para realizar análisis demográficos y calcular estadísticas descriptivas sobre los diferentes grupos de edad en un conjunto de datos."
   ]
  },
  {
   "cell_type": "code",
   "execution_count": null,
   "metadata": {},
   "outputs": [],
   "source": [
    "valores_unicos_agegrp = sorted(df1['AgeGrp'].unique())\n",
    "valores_unicos_agegrp"
   ]
  },
  {
   "cell_type": "markdown",
   "metadata": {},
   "source": [
    "### Valores únicos de la columna `\"AgeGrpStart\"`\n",
    "\n",
    "> La columna `\"AgeGrpStart\"` hace referencia al comienzo del rango de edad en una determinada cohorte o grupo de edad en un conjunto de datos. Esta columna generalmente se utiliza para representar la edad inicial de un grupo demográfico específico.\n",
    "> \n",
    "> En muchos conjuntos de datos demográficos, las edades se agrupan en rangos para facilitar el análisis y la visualización. La columna `\"AgeGrpStart\"` proporciona el valor de inicio de cada rango de edad en el conjunto de datos.\n",
    "> \n",
    "> Por ejemplo, si estuviéramos analizando la distribución de la población por grupos de edad y tuviéramos una columna `\"AgeGrpStart\"`, podríamos encontrar valores como 0, 5, 10, 15, etc. Estos valores representarían el inicio de cada rango de edad en el conjunto de datos. En este caso, el rango de edad de 0 a 4 años podría tener un `\"AgeGrpStart\"` de 0, el rango de 5 a 9 años podría tener un `\"AgeGrpStart\"` de 5, y así sucesivamente.\n",
    "> \n",
    "> Si deseas imprimir los valores únicos de la columna `\"AgeGrpStart\"` en forma ordenada, puedes seguir estos pasos:\n",
    "> \n",
    "> 1. Obtén los valores únicos de la columna \"AgeGrpStart\" utilizando el método `unique()` de pandas.\n",
    "> 2. Convierte los valores únicos en una lista.\n",
    "> 3. Ordena la lista de valores únicos en forma ascendente utilizando la función `sorted()`.\n",
    "> 4. Imprime los valores únicos ordenados."
   ]
  },
  {
   "cell_type": "code",
   "execution_count": null,
   "metadata": {},
   "outputs": [],
   "source": [
    "valores_unicos_agegrpstart = sorted(df1['AgeGrpStart'].unique())\n",
    "valores_unicos_agegrpstart"
   ]
  },
  {
   "cell_type": "markdown",
   "metadata": {},
   "source": [
    "## Filtración mediante el metodo `query()`.\n",
    "\n",
    "> El método `query()` de pandas se utiliza para filtrar el DataFrame `df1` y obtener las filas donde el valor de la columna `\"Location\"` igual a `\"Peru\"`. Aquí tienes el código completo:"
   ]
  },
  {
   "cell_type": "code",
   "execution_count": null,
   "metadata": {},
   "outputs": [],
   "source": [
    "peru = df1.query('Location == \"Peru\"')\n",
    "print(\"Dimensiones del DataFrame 'peru':\", peru.shape)\n",
    "peru.head()"
   ]
  },
  {
   "cell_type": "markdown",
   "metadata": {},
   "source": [
    "> El código filtra el DataFrame `df1` para obtener solo las filas donde el valor de la columna `\"Location\"` es `\"Peru\"` y almacena el resultado en el DataFrame `peru`. Luego, se imprime la forma (dimensiones) del DataFrame `peru` utilizando `peru.shape`, que devuelve una tupla con el número de filas y columnas del DataFrame.\n",
    ">\n",
    "> Finalmente, se muestra la vista previa (las primeras filas) del DataFrame `peru` utilizando `peru.head()`."
   ]
  },
  {
   "cell_type": "code",
   "execution_count": null,
   "metadata": {},
   "outputs": [],
   "source": [
    "peru_2023 = df1.query('Location == \"Peru\"').query('Time == 2023')\n",
    "print(\"Dimensiones del DataFrame 'peru_2023':\", peru_2023.shape)\n",
    "peru_2023.head()"
   ]
  },
  {
   "cell_type": "markdown",
   "metadata": {},
   "source": [
    "> El siguiente código proporciona un resultado similar creando un DataFrame llamado `df_tmp` que contiene las filas del DataFrame `df1` donde el valor de la columna `\"Location\"` igual a `\"Peru\"` y el valor de la columna `\"Time\"` es 2023. Aquí tienes el código:"
   ]
  },
  {
   "cell_type": "code",
   "execution_count": null,
   "metadata": {},
   "outputs": [],
   "source": [
    "df_tmp = df1[(df1['Location']=='Peru') & (df1['Time']==2023)]\n",
    "print(\"Dimensiones del DataFrame 'peru_2023':\", df_tmp.shape)\n",
    "df_tmp.head()"
   ]
  },
  {
   "cell_type": "code",
   "execution_count": null,
   "metadata": {},
   "outputs": [],
   "source": [
    "country = 'Peru'\n",
    "year = 2023\n",
    "\n",
    "df_tmp = df1[(df1['Location']==country) & (df1['Time']==year)]\n",
    "df_tmp = df_tmp.sort_values('AgeGrpStart', ascending=True)\n",
    "\n",
    "y = range(0, len(df_tmp))\n",
    "x_male = df_tmp['PopMale']\n",
    "x_female = df_tmp['PopFemale']\n",
    "\n",
    "# max xlim\n",
    "max_x_scale = max(max(x_female), max(x_male))+100\n",
    "\n",
    "fig, axes = plt.subplots(ncols=2, sharey=True, figsize=(10, 8))\n",
    "\n",
    "fig.patch.set_facecolor('xkcd:lemon yellow')\n",
    "plt.figtext(.5,0.925, country + \": \" +  str(year), fontsize=20, ha='center')\n",
    "\n",
    "axes[0].barh(y, x_male, align='center', color='xkcd:cobalt blue')\n",
    "axes[0].set(title='Varones')\n",
    "axes[0].set(xlim=[0,max_x_scale])\n",
    "\n",
    "axes[1].barh(y, x_female, align='center', color='xkcd:tangerine')\n",
    "axes[1].set(title='Mujeres')\n",
    "axes[1].set(xlim=[0,max_x_scale])\n",
    "axes[1].grid()\n",
    "\n",
    "axes[0].set(yticks=y, yticklabels=df_tmp['AgeGrp'])\n",
    "axes[0].invert_xaxis()\n",
    "axes[0].grid()\n",
    "\n",
    "plt.show()"
   ]
  },
  {
   "cell_type": "code",
   "execution_count": null,
   "metadata": {},
   "outputs": [],
   "source": [
    "def plot_population_pyramid(country, year):\n",
    "    df_tmp = df1[(df1['Location']==country) & (df1['Time']==year)]\n",
    "    df_tmp = df_tmp.sort_values('AgeGrpStart', ascending=True)\n",
    "\n",
    "    y = range(0, len(df_tmp))\n",
    "    x_male = df_tmp['PopMale']\n",
    "    x_female = df_tmp['PopFemale']\n",
    "\n",
    "    # max xlim\n",
    "    max_x_scale = max(max(x_female), max(x_male))+100\n",
    "\n",
    "    fig, axes = plt.subplots(ncols=2, sharey=True, figsize=(10, 8))\n",
    "\n",
    "    fig.patch.set_facecolor('xkcd:lemon yellow')\n",
    "    plt.figtext(.5,0.925, country + \": \" +  str(year), fontsize=20, ha='center')\n",
    "\n",
    "    axes[0].barh(y, x_male, align='center', color='xkcd:cobalt blue')\n",
    "    axes[0].set(title='Varones')\n",
    "    axes[0].set(xlim=[0,max_x_scale])\n",
    "\n",
    "    axes[1].barh(y, x_female, align='center', color='xkcd:tangerine')\n",
    "    axes[1].set(title='Mujeres')\n",
    "    axes[1].set(xlim=[0,max_x_scale])\n",
    "    axes[1].grid()\n",
    "\n",
    "    axes[0].set(yticks=y, yticklabels=df_tmp['AgeGrp'])\n",
    "    axes[0].invert_xaxis()\n",
    "    axes[0].grid()\n",
    "\n",
    "    plt.show()"
   ]
  },
  {
   "cell_type": "code",
   "execution_count": null,
   "metadata": {},
   "outputs": [],
   "source": [
    "country = 'Argentina'\n",
    "year = 2023\n",
    "plot_population_pyramid(country, year)"
   ]
  },
  {
   "cell_type": "code",
   "execution_count": null,
   "metadata": {
    "scrolled": false
   },
   "outputs": [],
   "source": [
    "country = 'United States of America'\n",
    "year = 2023\n",
    "plot_population_pyramid(country, year)"
   ]
  },
  {
   "cell_type": "code",
   "execution_count": null,
   "metadata": {},
   "outputs": [],
   "source": [
    "country = 'Germany'\n",
    "year = 2023\n",
    "plot_population_pyramid(country, year)"
   ]
  },
  {
   "cell_type": "code",
   "execution_count": null,
   "metadata": {},
   "outputs": [],
   "source": [
    "country = 'Ethiopia'\n",
    "year = 2023\n",
    "plot_population_pyramid(country, year)"
   ]
  },
  {
   "cell_type": "code",
   "execution_count": null,
   "metadata": {},
   "outputs": [],
   "source": [
    "country = 'Israel'\n",
    "year = 2023\n",
    "plot_population_pyramid(country, year)"
   ]
  },
  {
   "cell_type": "code",
   "execution_count": null,
   "metadata": {},
   "outputs": [],
   "source": [
    "country = 'Qatar'\n",
    "year = 2023\n",
    "plot_population_pyramid(country, year)"
   ]
  },
  {
   "cell_type": "code",
   "execution_count": null,
   "metadata": {},
   "outputs": [],
   "source": [
    "country = 'Japan'\n",
    "year = 2023\n",
    "plot_population_pyramid(country, year)"
   ]
  },
  {
   "cell_type": "code",
   "execution_count": null,
   "metadata": {},
   "outputs": [],
   "source": [
    "country = 'Saudi Arabia'\n",
    "year = 2023\n",
    "plot_population_pyramid(country, year)"
   ]
  },
  {
   "cell_type": "code",
   "execution_count": null,
   "metadata": {},
   "outputs": [],
   "source": [
    "country = 'Azerbaijan'\n",
    "year = 2023\n",
    "plot_population_pyramid(country, year)"
   ]
  },
  {
   "cell_type": "code",
   "execution_count": null,
   "metadata": {},
   "outputs": [],
   "source": [
    "country = 'Estonia'\n",
    "year = 2022\n",
    "plot_population_pyramid(country, year)"
   ]
  },
  {
   "cell_type": "code",
   "execution_count": null,
   "metadata": {},
   "outputs": [],
   "source": [
    "country = 'Bahrain'\n",
    "year = 2022\n",
    "plot_population_pyramid(country, year)"
   ]
  },
  {
   "cell_type": "code",
   "execution_count": null,
   "metadata": {},
   "outputs": [],
   "source": [
    "country = 'Cuba'\n",
    "year = 2022\n",
    "plot_population_pyramid(country, year)"
   ]
  },
  {
   "cell_type": "code",
   "execution_count": null,
   "metadata": {},
   "outputs": [],
   "source": [
    "def plot_population_pyramid_perc(country, year):\n",
    "    df_tmp = df1[(df1['Location']==country) & (df1['Time']==year)]\n",
    "    df_tmp = df_tmp.sort_values('AgeGrpStart', ascending=True)\n",
    "\n",
    "    y = range(0, len(df_tmp))\n",
    "    x_male = df_tmp['PopMale']  / df_tmp['PopTotal'].sum() * 100\n",
    "    x_female = df_tmp['PopFemale']  / df_tmp['PopTotal'].sum() * 100\n",
    "\n",
    "    # max xlim\n",
    "    max_x_scale = max(max(x_female), max(x_male))+0.25\n",
    "\n",
    "    fig, axes = plt.subplots(ncols=2, sharey=True, figsize=(10, 8))\n",
    "\n",
    "    fig.patch.set_facecolor('xkcd:light blue green')\n",
    "    plt.figtext(.5,0.925, country + \": \" +  str(year), fontsize=20, ha='center')\n",
    "\n",
    "    axes[0].barh(y, x_male, align='center', color='xkcd:indigo blue')\n",
    "    axes[0].set(title='Varones')\n",
    "    axes[0].set(xlim=[0,max_x_scale])\n",
    "\n",
    "    axes[1].barh(y, x_female, align='center', color='xkcd:vermillion')\n",
    "    axes[1].set(title='Mujeres')\n",
    "    axes[1].set(xlim=[0,max_x_scale])\n",
    "    axes[1].grid()\n",
    "\n",
    "    axes[0].set(yticks=y, yticklabels=df_tmp['AgeGrp'])\n",
    "    axes[0].invert_xaxis()\n",
    "    axes[0].grid()\n",
    "\n",
    "    plt.show()"
   ]
  },
  {
   "cell_type": "code",
   "execution_count": null,
   "metadata": {
    "scrolled": false
   },
   "outputs": [],
   "source": [
    "country = 'Cuba'\n",
    "year = 2022\n",
    "plot_population_pyramid_perc(country, year)"
   ]
  },
  {
   "cell_type": "code",
   "execution_count": null,
   "metadata": {},
   "outputs": [],
   "source": [
    "country = 'Bahrain'\n",
    "year = 2022\n",
    "plot_population_pyramid_perc(country, year)"
   ]
  },
  {
   "cell_type": "code",
   "execution_count": null,
   "metadata": {},
   "outputs": [],
   "source": [
    "country = 'Estonia'\n",
    "year = 2022\n",
    "plot_population_pyramid_perc(country, year)"
   ]
  },
  {
   "cell_type": "markdown",
   "metadata": {},
   "source": [
    "## Creación de un directorio\n",
    "\n",
    "> El código que se proporciona a continuación utiliza la función `os.makedirs()` para crear un directorio llamado `\"Peru\"` en tu sistema de archivos. Aquí tienes el código:"
   ]
  },
  {
   "cell_type": "code",
   "execution_count": null,
   "metadata": {},
   "outputs": [],
   "source": [
    "import os\n",
    "os.makedirs('Peru')"
   ]
  },
  {
   "cell_type": "markdown",
   "metadata": {},
   "source": [
    "> Después de ejecutar este código, se creará un directorio llamado `\"Peru\"` en el directorio actual o en la ruta especificada. Si el directorio ya existe, no se realizará ninguna acción.\n",
    ">\n",
    "> Puedes utilizar este directorio para organizar y almacenar archivos relacionados con los datos o resultados específicos de Perú en tu proyecto."
   ]
  },
  {
   "cell_type": "code",
   "execution_count": null,
   "metadata": {},
   "outputs": [],
   "source": [
    "import math\n",
    "\n",
    "country= 'Peru'\n",
    "counter = 0\n",
    "for yr in list(range(1950,2100,1)):\n",
    "    year = yr\n",
    "    df_tmp = df1[(df1['Location']==country) & (df1['Time']==year)]\n",
    "    df_tmp = df_tmp.sort_values('AgeGrpStart',ascending=True)\n",
    "\n",
    "    y = range(0, len(df_tmp))\n",
    "    x_male = df_tmp['PopMale']  / df_tmp['PopTotal'].sum() * 100\n",
    "    x_female = df_tmp['PopFemale']  / df_tmp['PopTotal'].sum() * 100\n",
    "    \n",
    "    # max xlim\n",
    "    max_x_scale = math.ceil(max(max(x_female), max(x_male))) + 0.25\n",
    "\n",
    "    fig, axes = plt.subplots(ncols=2, sharey=True, figsize=(10, 8))\n",
    "\n",
    "    fig.patch.set_facecolor('xkcd:light blue green')\n",
    "    plt.figtext(.5,.9, country + \": \" +  str(year), fontsize=15, ha='center')\n",
    "\n",
    "    axes[0].barh(y, x_male, align='center', color='xkcd:indigo blue')\n",
    "    axes[0].set(title='Males')\n",
    "    axes[0].set(xlim=[0,max_x_scale])\n",
    "\n",
    "    axes[1].barh(y, x_female, align='center', color='xkcd:vermillion')\n",
    "    axes[1].set(title='Females')\n",
    "    axes[1].set(xlim=[0,max_x_scale])\n",
    "    axes[1].grid()\n",
    "    \n",
    "    axes[0].set(yticks=y, yticklabels=df_tmp['AgeGrp'])\n",
    "    axes[0].invert_xaxis()\n",
    "    axes[0].grid()\n",
    "    \n",
    "    \n",
    "    plt.savefig('Peru/anim_' + str(counter) + '.png')\n",
    "    counter += 1"
   ]
  },
  {
   "cell_type": "markdown",
   "metadata": {},
   "source": [
    "## Realiza una animación de las piramides de población con FFMPEG:\n",
    ">  Descarga la versión de [FFMPEG](https://github.com/adaptlearning/adapt_authoring/wiki/Installing-FFmpeg) y sigue el procedimiento para su instalación:\n",
    ">\n",
    "> `ffmpeg -framerate 10 -i \"anim_%d.png\" -pix_fmt yuv420p out.mp4`"
   ]
  },
  {
   "cell_type": "code",
   "execution_count": null,
   "metadata": {},
   "outputs": [],
   "source": [
    "# pip install --upgrade pip"
   ]
  },
  {
   "cell_type": "code",
   "execution_count": null,
   "metadata": {},
   "outputs": [],
   "source": [
    "# pip install -U Flask"
   ]
  },
  {
   "cell_type": "markdown",
   "metadata": {},
   "source": [
    "## Creacción de piramides de población en HTML"
   ]
  },
  {
   "cell_type": "code",
   "execution_count": null,
   "metadata": {},
   "outputs": [],
   "source": [
    "# Cree una versión más pequeña para ajustarse al límite de 100 MB en PythonAnywhere\n",
    "df = pd.read_csv('WPP2022_PopulationByAge5GroupSex_Medium.csv')\n",
    "df = df[['Location','Time', 'AgeGrp', 'AgeGrpStart', 'PopMale', 'PopFemale', 'PopTotal']]\n",
    "df.to_csv('WPP2022_PopulationByAge5GroupSex.csv')\n",
    "df.head()"
   ]
  },
  {
   "cell_type": "markdown",
   "metadata": {},
   "source": [
    "/mysite/\n",
    "    WPP2022_PopulationByAge5GroupSex.csv\n",
    "    flask_app.py\n",
    "    /templates/\n",
    "        build-a-pyramid.html\n",
    "        unprg.png"
   ]
  },
  {
   "cell_type": "code",
   "execution_count": null,
   "metadata": {},
   "outputs": [],
   "source": [
    "#!/usr/bin/env python\n",
    "from flask import Flask, render_template, flash, request, jsonify, Markup\n",
    "import matplotlib\n",
    "import matplotlib.pyplot as plt\n",
    "import io, os, base64\n",
    "import numpy as np\n",
    "import pandas as pd\n",
    "\n",
    "# global variables\n",
    "app = Flask(__name__)\n",
    "pop_df = None\n",
    "location_list = None\n",
    "\n",
    "BASE_DIR = os.path.dirname(os.path.abspath(__file__))\n",
    "\n",
    "@app.before_first_request\n",
    "def startup():\n",
    "        global pop_df, location_list\n",
    "\n",
    "\t# load and prepare the data\n",
    "\tpop_df = pd.read_csv(BASE_DIR + '/WPP2022_PopulationByAge5GroupSex.csv')\n",
    "\tlocation_list = sorted(list(set(pop_df['Location'])))\n",
    "\n",
    "def get_population_pyramid(country, year):\n",
    "\tpop_df_tmp = pop_df[(pop_df['Location']==country) & (pop_df['Time']==year)].copy()\n",
    "\tpop_df_tmp = pop_df_tmp.sort_values('AgeGrpStart',ascending=True)\n",
    "\treturn(pop_df_tmp)\n",
    "\n",
    "@app.route(\"/\", methods=['POST', 'GET'])\n",
    "def build_pyramid():\n",
    "\tplot_to_show = ''\n",
    "\tselected_country = ''\n",
    "\tcountry_list = ''\n",
    "\tselected_year = ''\n",
    "\n",
    "\tif request.method == 'POST':\n",
    "\t\tselected_country = request.form['selected_country']\n",
    "\t\tselected_year = int(request.form['selected_year'])\n",
    "\n",
    "\t\tpop_df_tmp = get_population_pyramid(selected_country, selected_year)\n",
    "\n",
    "\t\ty = range(0, len(pop_df_tmp))\n",
    "\t\tx_male = pop_df_tmp['PopMale']\n",
    "\t\tx_female = pop_df_tmp['PopFemale']\n",
    "\n",
    "\t\t# max xlim\n",
    "\t\tmax_x_scale = max(max(x_female), max(x_male))\n",
    "\n",
    "\t\tfig, axes = plt.subplots(ncols=2, sharey=True, figsize=(12, 10))\n",
    "\n",
    "\t\tfig.patch.set_facecolor('xkcd:light lavender')\n",
    "\t\tplt.figtext(.5,.9,selected_country + \": \" +  str(selected_year), fontsize=16, ha='center')\n",
    "\n",
    "\t\taxes[0].barh(y, x_male, align='center', color='#4B63E9')\n",
    "\t\taxes[0].set(title='Males')\n",
    "\t\taxes[0].set(xlim=[0,max_x_scale])\n",
    "\t\taxes[1].barh(y, x_female, align='center', color='#F39C12')\n",
    "\t\taxes[1].set(title='Females')\n",
    "\t\taxes[1].set(xlim=[0,max_x_scale])\n",
    "\t\taxes[1].grid()\n",
    "\t\taxes[0].set(yticks=y, yticklabels=pop_df_tmp['AgeGrp'])\n",
    "\t\taxes[0].invert_xaxis()\n",
    "\t\taxes[0].grid()\n",
    "\n",
    "\t\timg = io.BytesIO()\n",
    "\t\tplt.savefig(img, format='png')\n",
    "\t\timg.seek(0)\n",
    "\t\tplot_url = base64.b64encode(img.getvalue()).decode()\n",
    "\t\tplot_to_show = Markup('<img src=\"data:image/png;base64,{}\" style=\"width:100%;vertical-align:top\">'.format(plot_url))\n",
    "\n",
    "\treturn render_template('build-a-pyramid.html',\n",
    "\t\t\t\t\t\tplot_to_show = plot_to_show,\n",
    "\t\t\t\t\t\tselected_country = selected_country,\n",
    "\t\t\t\t\t\tlocation_list = location_list,\n",
    "\t\t\t\t\t\tselected_year = selected_year)\n",
    "if __name__=='__main__':\n",
    "    app.run(debug=True)"
   ]
  },
  {
   "cell_type": "code",
   "execution_count": null,
   "metadata": {},
   "outputs": [],
   "source": [
    "<!DOCTYPE html>\n",
    "<html lang=\"en\" >\n",
    "<head>\n",
    "  <meta charset=\"UTF-8\">\n",
    "  <title>Population Pyramids</title>\n",
    "  <meta name=\"viewport\" content=\"width=device-width, initial-scale=1\">\n",
    "  <script src=\"//ajax.googleapis.com/ajax/libs/jquery/1.9.1/jquery.min.js\"></script>\n",
    "  <link rel=\"stylesheet\" href=\"https://www.w3schools.com/w3css/4/w3.css\">\n",
    "\n",
    "</head>\n",
    "\n",
    "<body bgcolor=\"black\">\n",
    "  <div class=\"w3-center w3-padding\">\n",
    "    <H1> <img src=\"https://www.pythonanywhere.com/user/cazula/files/home/cazula/mysite/templates/unprg.png\"> </H1>\n",
    "    <H1><font color='#3364FF'> Análisis Económico de la Población (EC-480 10A)</font> </H1>\n",
    "    <H1><font color='#F39C12'>Piramides de  Población</font>                              </H1>\n",
    "    <H1><font color='#F4D03F'> (1950 - 2099)</font>                                        </H1>\n",
    "\n",
    "    <FORM id='submit_content' method=\"POST\" action=\"{{ url_for('build_pyramid') }}\">\n",
    "\n",
    "    <SELECT class=\"selectpicker\" name=\"selected_country\">\n",
    "        <option value=\"{{selected_country}}\" selected>{{selected_country}}</option>\n",
    "        {% for country in location_list %}\n",
    "            <option>{{country}}</option>\n",
    "        {% endfor %}\n",
    "    </SELECT>\n",
    "\n",
    "\n",
    "    <SELECT class=\"selectpicker\" name=\"selected_year\" >\n",
    "        <option value=\"{{selected_year}}\" selected>{{selected_year}}</option>\n",
    "        {% for year in range(1950, 2100, 1) %}\n",
    "            <option value=\"{{year}}\">{{year}}</option>\n",
    "        {% endfor %}\n",
    "    </SELECT>\n",
    "    <button type=\"submit\" form=\"submit_content\" value=\"Submit\">Build</button>\n",
    "  </FORM>\n",
    "</div>\n",
    "\n",
    "\n",
    "  {{plot_to_show}}\n",
    "\n",
    "<H5><font color='#E74C3C'> (Extraido de https://www.viralml.com/)</font> /H5>\n",
    "</body>\n",
    "\n",
    "</html>"
   ]
  },
  {
   "cell_type": "markdown",
   "metadata": {},
   "source": [
    "## Bibliotecas para la visualización interactiva de piramides de población"
   ]
  },
  {
   "cell_type": "code",
   "execution_count": null,
   "metadata": {},
   "outputs": [],
   "source": [
    "import plotly.offline as pyoff\n",
    "import plotly.graph_objs as go\n",
    "\n",
    "import numpy as np\n",
    "\n",
    "country = 'Peru'\n",
    "year = 2022\n",
    "\n",
    "pop_df_tmp = pop_df1[(pop_df1['Location']==country) & (pop_df1['Time']==year)]\n",
    "pop_df_tmp = pop_df_tmp.sort_values('AgeGrpStart', ascending=True)\n",
    "\n",
    "\n",
    "men_bins = np.array(pop_df_tmp['PopMale']/ pop_df_tmp['PopTotal'].sum() *100)\n",
    "women_bins = np.array(-abs(pop_df_tmp['PopFemale'] / pop_df_tmp['PopTotal'].sum()*100))\n",
    "\n",
    "\n",
    "y = list(pop_df1['AgeGrp'])\n",
    "\n",
    "layout = go.Layout(yaxis=go.layout.YAxis(title='Cohortes'),\n",
    "                   xaxis=go.layout.XAxis(\n",
    "                       range=[-5, 5],\n",
    "                       tickvals=[-5, -4, -3, -2, -1, 0, 1, 2, 3, 4, 5],\n",
    "                       ticktext=[5, 4, 3, 2, 1, 0, 1, 2, 3, 4, 5],\n",
    "                       title='Porcentaje'),\n",
    "                   barmode='overlay',\n",
    "                   bargap=0.1)\n",
    "\n",
    "data = [go.Bar(y=y,\n",
    "               x=women_bins,\n",
    "               orientation='h',\n",
    "               name='Mujeres',\n",
    "               text= -1*women_bins.astype('float').round(2),\n",
    "               hoverinfo='text',\n",
    "               marker=dict(color='powderblue')\n",
    "               ),\n",
    "        go.Bar(y=y,\n",
    "               x=men_bins.round(2),\n",
    "               orientation='h',\n",
    "               name='Hombres', \n",
    "               hoverinfo='x',\n",
    "               marker=dict(color='seagreen')\n",
    "               )]\n",
    "\n",
    "pyoff.iplot(dict(data=data, layout=layout))"
   ]
  },
  {
   "cell_type": "code",
   "execution_count": null,
   "metadata": {},
   "outputs": [],
   "source": [
    "country = 'Peru'\n",
    "year = 2022\n",
    "\n",
    "pop_df_tmp = pop_df1[(pop_df1['Location']==country) & (pop_df1['Time']==year)]\n",
    "pop_df_tmp = pop_df_tmp.sort_values('AgeGrpStart', ascending=True)\n",
    "\n",
    "y = list(pop_df_tmp['AgeGrp'])\n",
    "male = np.array(pop_df_tmp['PopMale']/ pop_df_tmp['PopTotal'].sum() *100)\n",
    "female = np.array(-abs(pop_df_tmp['PopFemale'] / pop_df_tmp['PopTotal'].sum()*100))\n",
    "\n",
    "# Creamos una Figura.\n",
    "\n",
    "fig = go.Figure()\n",
    "\n",
    "fig.add_trace(go.Bar(\n",
    "                    y = y,\n",
    "                    x = male.round(2),\n",
    "                    name = 'Hombres',\n",
    "                orientation = 'h'\n",
    "))\n",
    "\n",
    "fig.add_trace(go.Bar(\n",
    "                    y = y,\n",
    "                    x = female,\n",
    "                    name = 'Mujeres',\n",
    "                orientation = 'h',\n",
    "               text= -1*female.astype('float').round(2),\n",
    "               hoverinfo='text',\n",
    "))\n",
    "\n",
    "fig.update_layout(\n",
    "    template = 'plotly_white',\n",
    "    title = 'Piramide Poblacional Peru 2022',\n",
    "    title_font_size =24,\n",
    "    barmode = 'relative',\n",
    "    bargap = 0.0,\n",
    "    bargroupgap = 0)\n",
    "\n",
    "fig.show()"
   ]
  }
 ],
 "metadata": {
  "kernelspec": {
   "display_name": "Python 3",
   "language": "python",
   "name": "python3"
  },
  "language_info": {
   "codemirror_mode": {
    "name": "ipython",
    "version": 3
   },
   "file_extension": ".py",
   "mimetype": "text/x-python",
   "name": "python",
   "nbconvert_exporter": "python",
   "pygments_lexer": "ipython3",
   "version": "3.7.6"
  },
  "latex_envs": {
   "LaTeX_envs_menu_present": true,
   "autoclose": true,
   "autocomplete": true,
   "bibliofile": "biblio.bib",
   "cite_by": "apalike",
   "current_citInitial": 1,
   "eqLabelWithNumbers": true,
   "eqNumInitial": 1,
   "hotkeys": {
    "equation": "Ctrl-E",
    "itemize": "Ctrl-I"
   },
   "labels_anchors": false,
   "latex_user_defs": false,
   "report_style_numbering": false,
   "user_envs_cfg": false
  },
  "toc": {
   "base_numbering": 1,
   "nav_menu": {},
   "number_sections": true,
   "sideBar": true,
   "skip_h1_title": false,
   "title_cell": "Table of Contents",
   "title_sidebar": "Contents",
   "toc_cell": false,
   "toc_position": {},
   "toc_section_display": true,
   "toc_window_display": false
  }
 },
 "nbformat": 4,
 "nbformat_minor": 4
}
